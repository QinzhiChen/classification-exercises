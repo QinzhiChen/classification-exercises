{
 "cells": [
  {
   "cell_type": "code",
   "execution_count": 15,
   "id": "84975231",
   "metadata": {},
   "outputs": [
    {
     "data": {
      "text/html": [
       "<div>\n",
       "<style scoped>\n",
       "    .dataframe tbody tr th:only-of-type {\n",
       "        vertical-align: middle;\n",
       "    }\n",
       "\n",
       "    .dataframe tbody tr th {\n",
       "        vertical-align: top;\n",
       "    }\n",
       "\n",
       "    .dataframe thead th {\n",
       "        text-align: right;\n",
       "    }\n",
       "</style>\n",
       "<table border=\"1\" class=\"dataframe\">\n",
       "  <thead>\n",
       "    <tr style=\"text-align: right;\">\n",
       "      <th></th>\n",
       "      <th>prep dog</th>\n",
       "      <th>prep cat</th>\n",
       "    </tr>\n",
       "  </thead>\n",
       "  <tbody>\n",
       "    <tr>\n",
       "      <th>actual dog</th>\n",
       "      <td>46</td>\n",
       "      <td>7</td>\n",
       "    </tr>\n",
       "    <tr>\n",
       "      <th>actual cat</th>\n",
       "      <td>13</td>\n",
       "      <td>34</td>\n",
       "    </tr>\n",
       "  </tbody>\n",
       "</table>\n",
       "</div>"
      ],
      "text/plain": [
       "            prep dog  prep cat\n",
       "actual dog        46         7\n",
       "actual cat        13        34"
      ]
     },
     "execution_count": 15,
     "metadata": {},
     "output_type": "execute_result"
    }
   ],
   "source": [
    "import csv\n",
    "import pandas as pd\n",
    "from sklearn.metrics import confusion_matrix\n",
    "\n",
    "dog_cat_df = pd.DataFrame({\n",
    "    'prep dog': [46, 13],\n",
    "    'prep cat': [7,34]\n",
    "},index=['actual dog','actual cat'])\n",
    "dog_cat_df\n"
   ]
  },
  {
   "cell_type": "code",
   "execution_count": 12,
   "id": "6572bc3d",
   "metadata": {},
   "outputs": [],
   "source": [
    "# The false positive is dog\n",
    "# the false negative is cat"
   ]
  },
  {
   "cell_type": "code",
   "execution_count": 59,
   "id": "4d85a498",
   "metadata": {},
   "outputs": [
    {
     "name": "stdout",
     "output_type": "stream",
     "text": [
      "The model's True Positive is 46 Themodel's False Positive is 7 The model's True Negative is 34 The model's False Negative is 13\n"
     ]
    }
   ],
   "source": [
    "TP=46\n",
    "FP=7\n",
    "FN=13\n",
    "TN=34\n",
    "print(\"The model's True Positive is\", TP, \"Themodel's False Positive is\",FP, \"The model's True Negative is\",TN, \"The model's False Negative is\", FN)"
   ]
  },
  {
   "cell_type": "code",
   "execution_count": 70,
   "id": "e19fc436",
   "metadata": {},
   "outputs": [
    {
     "name": "stdout",
     "output_type": "stream",
     "text": [
      "The accuracy of the model is 0.8\n",
      "The precision of the model is 0.87\n",
      "The recall of the model is 0.78\n"
     ]
    }
   ],
   "source": [
    "print('The accuracy of the model is', (TP+TN)/(TP+FP+FN+TN)),\n",
    "print('The precision of the model is', (round((TP)/(TP+FP),2))),\n",
    "print('The recall of the model is', (round(TP/(TP+FN),2)))"
   ]
  },
  {
   "cell_type": "code",
   "execution_count": 82,
   "id": "ada88dc1",
   "metadata": {},
   "outputs": [],
   "source": [
    "defect_df=pd.read_csv('c3.csv')"
   ]
  },
  {
   "cell_type": "code",
   "execution_count": 83,
   "id": "55887228",
   "metadata": {},
   "outputs": [
    {
     "data": {
      "text/plain": [
       "No Defect    184\n",
       "Defect        16\n",
       "Name: actual, dtype: int64"
      ]
     },
     "execution_count": 83,
     "metadata": {},
     "output_type": "execute_result"
    }
   ],
   "source": [
    "defect_df.actual.value_counts()"
   ]
  },
  {
   "cell_type": "code",
   "execution_count": 96,
   "id": "0301f9d2",
   "metadata": {},
   "outputs": [
    {
     "data": {
      "text/html": [
       "<div>\n",
       "<style scoped>\n",
       "    .dataframe tbody tr th:only-of-type {\n",
       "        vertical-align: middle;\n",
       "    }\n",
       "\n",
       "    .dataframe tbody tr th {\n",
       "        vertical-align: top;\n",
       "    }\n",
       "\n",
       "    .dataframe thead th {\n",
       "        text-align: right;\n",
       "    }\n",
       "</style>\n",
       "<table border=\"1\" class=\"dataframe\">\n",
       "  <thead>\n",
       "    <tr style=\"text-align: right;\">\n",
       "      <th></th>\n",
       "      <th>actual</th>\n",
       "      <th>model1</th>\n",
       "      <th>model2</th>\n",
       "      <th>model3</th>\n",
       "      <th>baseline</th>\n",
       "    </tr>\n",
       "  </thead>\n",
       "  <tbody>\n",
       "    <tr>\n",
       "      <th>13</th>\n",
       "      <td>Defect</td>\n",
       "      <td>No Defect</td>\n",
       "      <td>Defect</td>\n",
       "      <td>Defect</td>\n",
       "      <td>Defect</td>\n",
       "    </tr>\n",
       "    <tr>\n",
       "      <th>30</th>\n",
       "      <td>Defect</td>\n",
       "      <td>Defect</td>\n",
       "      <td>No Defect</td>\n",
       "      <td>Defect</td>\n",
       "      <td>Defect</td>\n",
       "    </tr>\n",
       "    <tr>\n",
       "      <th>65</th>\n",
       "      <td>Defect</td>\n",
       "      <td>Defect</td>\n",
       "      <td>Defect</td>\n",
       "      <td>Defect</td>\n",
       "      <td>Defect</td>\n",
       "    </tr>\n",
       "    <tr>\n",
       "      <th>70</th>\n",
       "      <td>Defect</td>\n",
       "      <td>Defect</td>\n",
       "      <td>Defect</td>\n",
       "      <td>Defect</td>\n",
       "      <td>Defect</td>\n",
       "    </tr>\n",
       "    <tr>\n",
       "      <th>74</th>\n",
       "      <td>Defect</td>\n",
       "      <td>No Defect</td>\n",
       "      <td>No Defect</td>\n",
       "      <td>Defect</td>\n",
       "      <td>Defect</td>\n",
       "    </tr>\n",
       "    <tr>\n",
       "      <th>87</th>\n",
       "      <td>Defect</td>\n",
       "      <td>No Defect</td>\n",
       "      <td>Defect</td>\n",
       "      <td>Defect</td>\n",
       "      <td>Defect</td>\n",
       "    </tr>\n",
       "    <tr>\n",
       "      <th>118</th>\n",
       "      <td>Defect</td>\n",
       "      <td>No Defect</td>\n",
       "      <td>Defect</td>\n",
       "      <td>No Defect</td>\n",
       "      <td>Defect</td>\n",
       "    </tr>\n",
       "    <tr>\n",
       "      <th>135</th>\n",
       "      <td>Defect</td>\n",
       "      <td>Defect</td>\n",
       "      <td>No Defect</td>\n",
       "      <td>Defect</td>\n",
       "      <td>Defect</td>\n",
       "    </tr>\n",
       "    <tr>\n",
       "      <th>140</th>\n",
       "      <td>Defect</td>\n",
       "      <td>No Defect</td>\n",
       "      <td>Defect</td>\n",
       "      <td>Defect</td>\n",
       "      <td>Defect</td>\n",
       "    </tr>\n",
       "    <tr>\n",
       "      <th>147</th>\n",
       "      <td>Defect</td>\n",
       "      <td>Defect</td>\n",
       "      <td>No Defect</td>\n",
       "      <td>Defect</td>\n",
       "      <td>Defect</td>\n",
       "    </tr>\n",
       "    <tr>\n",
       "      <th>163</th>\n",
       "      <td>Defect</td>\n",
       "      <td>Defect</td>\n",
       "      <td>Defect</td>\n",
       "      <td>Defect</td>\n",
       "      <td>Defect</td>\n",
       "    </tr>\n",
       "    <tr>\n",
       "      <th>171</th>\n",
       "      <td>Defect</td>\n",
       "      <td>No Defect</td>\n",
       "      <td>Defect</td>\n",
       "      <td>Defect</td>\n",
       "      <td>Defect</td>\n",
       "    </tr>\n",
       "    <tr>\n",
       "      <th>176</th>\n",
       "      <td>Defect</td>\n",
       "      <td>No Defect</td>\n",
       "      <td>Defect</td>\n",
       "      <td>Defect</td>\n",
       "      <td>Defect</td>\n",
       "    </tr>\n",
       "    <tr>\n",
       "      <th>186</th>\n",
       "      <td>Defect</td>\n",
       "      <td>No Defect</td>\n",
       "      <td>No Defect</td>\n",
       "      <td>No Defect</td>\n",
       "      <td>Defect</td>\n",
       "    </tr>\n",
       "    <tr>\n",
       "      <th>194</th>\n",
       "      <td>Defect</td>\n",
       "      <td>Defect</td>\n",
       "      <td>No Defect</td>\n",
       "      <td>Defect</td>\n",
       "      <td>Defect</td>\n",
       "    </tr>\n",
       "    <tr>\n",
       "      <th>196</th>\n",
       "      <td>Defect</td>\n",
       "      <td>Defect</td>\n",
       "      <td>No Defect</td>\n",
       "      <td>No Defect</td>\n",
       "      <td>Defect</td>\n",
       "    </tr>\n",
       "  </tbody>\n",
       "</table>\n",
       "</div>"
      ],
      "text/plain": [
       "     actual     model1     model2     model3 baseline\n",
       "13   Defect  No Defect     Defect     Defect   Defect\n",
       "30   Defect     Defect  No Defect     Defect   Defect\n",
       "65   Defect     Defect     Defect     Defect   Defect\n",
       "70   Defect     Defect     Defect     Defect   Defect\n",
       "74   Defect  No Defect  No Defect     Defect   Defect\n",
       "87   Defect  No Defect     Defect     Defect   Defect\n",
       "118  Defect  No Defect     Defect  No Defect   Defect\n",
       "135  Defect     Defect  No Defect     Defect   Defect\n",
       "140  Defect  No Defect     Defect     Defect   Defect\n",
       "147  Defect     Defect  No Defect     Defect   Defect\n",
       "163  Defect     Defect     Defect     Defect   Defect\n",
       "171  Defect  No Defect     Defect     Defect   Defect\n",
       "176  Defect  No Defect     Defect     Defect   Defect\n",
       "186  Defect  No Defect  No Defect  No Defect   Defect\n",
       "194  Defect     Defect  No Defect     Defect   Defect\n",
       "196  Defect     Defect  No Defect  No Defect   Defect"
      ]
     },
     "execution_count": 96,
     "metadata": {},
     "output_type": "execute_result"
    }
   ],
   "source": [
    "defect_num=defect_df[defect_df.actual=='Defect']\n",
    "defect_num"
   ]
  },
  {
   "cell_type": "code",
   "execution_count": 103,
   "id": "6449dcac",
   "metadata": {},
   "outputs": [],
   "source": [
    "defect_model1_recall=(defect_num.actual==defect_num.model1).mean()"
   ]
  },
  {
   "cell_type": "code",
   "execution_count": 104,
   "id": "413b8aa7",
   "metadata": {},
   "outputs": [
    {
     "data": {
      "text/plain": [
       "0.5"
      ]
     },
     "execution_count": 104,
     "metadata": {},
     "output_type": "execute_result"
    }
   ],
   "source": [
    "defect_model1_recall"
   ]
  },
  {
   "cell_type": "code",
   "execution_count": 105,
   "id": "86643e77",
   "metadata": {},
   "outputs": [],
   "source": [
    "defect_model2_recall=(defect_num.actual==defect_num.model2).mean()"
   ]
  },
  {
   "cell_type": "code",
   "execution_count": 106,
   "id": "296e82cf",
   "metadata": {},
   "outputs": [
    {
     "data": {
      "text/plain": [
       "0.5625"
      ]
     },
     "execution_count": 106,
     "metadata": {},
     "output_type": "execute_result"
    }
   ],
   "source": [
    "defect_model2_recall"
   ]
  },
  {
   "cell_type": "code",
   "execution_count": 107,
   "id": "6782caf6",
   "metadata": {},
   "outputs": [],
   "source": [
    "defect_model3_recall=(defect_num.actual==defect_num.model3).mean()"
   ]
  },
  {
   "cell_type": "code",
   "execution_count": 108,
   "id": "fe751e73",
   "metadata": {},
   "outputs": [
    {
     "data": {
      "text/plain": [
       "0.8125"
      ]
     },
     "execution_count": 108,
     "metadata": {},
     "output_type": "execute_result"
    }
   ],
   "source": [
    "defect_model3_recall"
   ]
  },
  {
   "cell_type": "code",
   "execution_count": 109,
   "id": "61096cbc",
   "metadata": {},
   "outputs": [],
   "source": [
    "# precision=TP/(TP+FP)"
   ]
  },
  {
   "cell_type": "code",
   "execution_count": 121,
   "id": "29da8029",
   "metadata": {},
   "outputs": [
    {
     "data": {
      "text/plain": [
       "0.8"
      ]
     },
     "execution_count": 121,
     "metadata": {},
     "output_type": "execute_result"
    }
   ],
   "source": [
    "model_1pre=defect_df[defect_df.model1=='Defect']\n",
    "model1_recall=(model_1pre.model1==model_1pre.actual).mean()\n",
    "model1_recall"
   ]
  },
  {
   "cell_type": "code",
   "execution_count": 122,
   "id": "fab2344a",
   "metadata": {},
   "outputs": [
    {
     "data": {
      "text/plain": [
       "0.1"
      ]
     },
     "execution_count": 122,
     "metadata": {},
     "output_type": "execute_result"
    }
   ],
   "source": [
    "model_2pre=defect_df[defect_df.model2=='Defect']\n",
    "model2_recall=(model_2pre.model2==model_2pre.actual).mean()\n",
    "model2_recall"
   ]
  },
  {
   "cell_type": "code",
   "execution_count": 124,
   "id": "c051d2aa",
   "metadata": {},
   "outputs": [
    {
     "data": {
      "text/plain": [
       "0.13131313131313133"
      ]
     },
     "execution_count": 124,
     "metadata": {},
     "output_type": "execute_result"
    }
   ],
   "source": [
    "model_3pre=defect_df[defect_df.model3=='Defect']\n",
    "model3_recall=(model_3pre.model3==model_3pre.actual).mean()\n",
    "model3_recall"
   ]
  },
  {
   "cell_type": "code",
   "execution_count": 152,
   "id": "c7b02e2d",
   "metadata": {},
   "outputs": [],
   "source": [
    "dogcat=pd.read_csv('gives_you_paws.csv')"
   ]
  },
  {
   "cell_type": "code",
   "execution_count": 153,
   "id": "f02b9a04",
   "metadata": {},
   "outputs": [
    {
     "data": {
      "text/html": [
       "<div>\n",
       "<style scoped>\n",
       "    .dataframe tbody tr th:only-of-type {\n",
       "        vertical-align: middle;\n",
       "    }\n",
       "\n",
       "    .dataframe tbody tr th {\n",
       "        vertical-align: top;\n",
       "    }\n",
       "\n",
       "    .dataframe thead th {\n",
       "        text-align: right;\n",
       "    }\n",
       "</style>\n",
       "<table border=\"1\" class=\"dataframe\">\n",
       "  <thead>\n",
       "    <tr style=\"text-align: right;\">\n",
       "      <th></th>\n",
       "      <th>actual</th>\n",
       "      <th>model1</th>\n",
       "      <th>model2</th>\n",
       "      <th>model3</th>\n",
       "      <th>model4</th>\n",
       "    </tr>\n",
       "  </thead>\n",
       "  <tbody>\n",
       "    <tr>\n",
       "      <th>0</th>\n",
       "      <td>dog</td>\n",
       "      <td>dog</td>\n",
       "      <td>cat</td>\n",
       "      <td>dog</td>\n",
       "      <td>dog</td>\n",
       "    </tr>\n",
       "  </tbody>\n",
       "</table>\n",
       "</div>"
      ],
      "text/plain": [
       "  actual model1 model2 model3 model4\n",
       "0    dog    dog    cat    dog    dog"
      ]
     },
     "execution_count": 153,
     "metadata": {},
     "output_type": "execute_result"
    }
   ],
   "source": [
    "dogcat.mode()"
   ]
  },
  {
   "cell_type": "code",
   "execution_count": 154,
   "id": "97da56ee",
   "metadata": {},
   "outputs": [],
   "source": [
    "dogcat['baseline']='dog'"
   ]
  },
  {
   "cell_type": "code",
   "execution_count": 155,
   "id": "4658b3bf",
   "metadata": {},
   "outputs": [],
   "source": [
    "# accuracy=TP+TN/All"
   ]
  },
  {
   "cell_type": "code",
   "execution_count": 157,
   "id": "303f3ad2",
   "metadata": {},
   "outputs": [
    {
     "data": {
      "text/plain": [
       "[['model1', 0.8074],\n",
       " ['model2', 0.6304],\n",
       " ['model3', 0.5096],\n",
       " ['model4', 0.7426],\n",
       " ['baseline', 0.6508]]"
      ]
     },
     "execution_count": 157,
     "metadata": {},
     "output_type": "execute_result"
    }
   ],
   "source": [
    "accuracy = []\n",
    "\n",
    "for model in dogcat.columns[1:]:\n",
    "    acc = (dogcat.actual == dogcat[model]).mean()\n",
    "    accuracy.append([model, acc])\n",
    "\n",
    "accuracy"
   ]
  },
  {
   "cell_type": "code",
   "execution_count": 175,
   "id": "87b07efa",
   "metadata": {},
   "outputs": [
    {
     "data": {
      "text/plain": [
       "[['model1', 0.8900238338440586],\n",
       " ['model2', 0.8931767337807607],\n",
       " ['model3', 0.6598883572567783],\n",
       " ['model4', 0.7312485304490948],\n",
       " ['baseline', 0.6508]]"
      ]
     },
     "execution_count": 175,
     "metadata": {},
     "output_type": "execute_result"
    }
   ],
   "source": [
    "precision=[]\n",
    "\n",
    "for model in dogcat.columns[1:]:\n",
    "    acc = (dogcat[dogcat[model]=='dog'])\n",
    "    pre=(acc.actual==acc[model]).mean()\n",
    "    precision.append([model, pre])\n",
    "precision"
   ]
  },
  {
   "cell_type": "code",
   "execution_count": 177,
   "id": "10c18359",
   "metadata": {},
   "outputs": [
    {
     "data": {
      "text/plain": [
       "[['model1', 0.6897721764420747],\n",
       " ['model2', 0.4841220423412204],\n",
       " ['model3', 0.358346709470305],\n",
       " ['model4', 0.8072289156626506],\n",
       " ['baseline', nan]]"
      ]
     },
     "execution_count": 177,
     "metadata": {},
     "output_type": "execute_result"
    }
   ],
   "source": [
    "precision=[]\n",
    "\n",
    "for model in dogcat.columns[1:]:\n",
    "    acc = (dogcat[dogcat[model]=='cat'])\n",
    "    pre=(acc.actual==acc[model]).mean()\n",
    "    precision.append([model, pre])\n",
    "precision"
   ]
  },
  {
   "cell_type": "code",
   "execution_count": null,
   "id": "45330cc9",
   "metadata": {},
   "outputs": [],
   "source": []
  }
 ],
 "metadata": {
  "kernelspec": {
   "display_name": "Python 3 (ipykernel)",
   "language": "python",
   "name": "python3"
  },
  "language_info": {
   "codemirror_mode": {
    "name": "ipython",
    "version": 3
   },
   "file_extension": ".py",
   "mimetype": "text/x-python",
   "name": "python",
   "nbconvert_exporter": "python",
   "pygments_lexer": "ipython3",
   "version": "3.9.12"
  }
 },
 "nbformat": 4,
 "nbformat_minor": 5
}
