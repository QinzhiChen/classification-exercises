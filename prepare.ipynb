{
 "cells": [
  {
   "cell_type": "code",
   "execution_count": 1,
   "id": "a6a004b4",
   "metadata": {},
   "outputs": [
    {
     "data": {
      "text/html": [
       "<div>\n",
       "<style scoped>\n",
       "    .dataframe tbody tr th:only-of-type {\n",
       "        vertical-align: middle;\n",
       "    }\n",
       "\n",
       "    .dataframe tbody tr th {\n",
       "        vertical-align: top;\n",
       "    }\n",
       "\n",
       "    .dataframe thead th {\n",
       "        text-align: right;\n",
       "    }\n",
       "</style>\n",
       "<table border=\"1\" class=\"dataframe\">\n",
       "  <thead>\n",
       "    <tr style=\"text-align: right;\">\n",
       "      <th></th>\n",
       "      <th>Unnamed: 0</th>\n",
       "      <th>species_id</th>\n",
       "      <th>measurement_id</th>\n",
       "      <th>sepal_length</th>\n",
       "      <th>sepal_width</th>\n",
       "      <th>petal_length</th>\n",
       "      <th>petal_width</th>\n",
       "      <th>species_name</th>\n",
       "    </tr>\n",
       "  </thead>\n",
       "  <tbody>\n",
       "    <tr>\n",
       "      <th>0</th>\n",
       "      <td>0</td>\n",
       "      <td>1</td>\n",
       "      <td>1</td>\n",
       "      <td>5.1</td>\n",
       "      <td>3.5</td>\n",
       "      <td>1.4</td>\n",
       "      <td>0.2</td>\n",
       "      <td>setosa</td>\n",
       "    </tr>\n",
       "    <tr>\n",
       "      <th>1</th>\n",
       "      <td>1</td>\n",
       "      <td>1</td>\n",
       "      <td>2</td>\n",
       "      <td>4.9</td>\n",
       "      <td>3.0</td>\n",
       "      <td>1.4</td>\n",
       "      <td>0.2</td>\n",
       "      <td>setosa</td>\n",
       "    </tr>\n",
       "    <tr>\n",
       "      <th>2</th>\n",
       "      <td>2</td>\n",
       "      <td>1</td>\n",
       "      <td>3</td>\n",
       "      <td>4.7</td>\n",
       "      <td>3.2</td>\n",
       "      <td>1.3</td>\n",
       "      <td>0.2</td>\n",
       "      <td>setosa</td>\n",
       "    </tr>\n",
       "    <tr>\n",
       "      <th>3</th>\n",
       "      <td>3</td>\n",
       "      <td>1</td>\n",
       "      <td>4</td>\n",
       "      <td>4.6</td>\n",
       "      <td>3.1</td>\n",
       "      <td>1.5</td>\n",
       "      <td>0.2</td>\n",
       "      <td>setosa</td>\n",
       "    </tr>\n",
       "    <tr>\n",
       "      <th>4</th>\n",
       "      <td>4</td>\n",
       "      <td>1</td>\n",
       "      <td>5</td>\n",
       "      <td>5.0</td>\n",
       "      <td>3.6</td>\n",
       "      <td>1.4</td>\n",
       "      <td>0.2</td>\n",
       "      <td>setosa</td>\n",
       "    </tr>\n",
       "    <tr>\n",
       "      <th>...</th>\n",
       "      <td>...</td>\n",
       "      <td>...</td>\n",
       "      <td>...</td>\n",
       "      <td>...</td>\n",
       "      <td>...</td>\n",
       "      <td>...</td>\n",
       "      <td>...</td>\n",
       "      <td>...</td>\n",
       "    </tr>\n",
       "    <tr>\n",
       "      <th>145</th>\n",
       "      <td>145</td>\n",
       "      <td>3</td>\n",
       "      <td>146</td>\n",
       "      <td>6.7</td>\n",
       "      <td>3.0</td>\n",
       "      <td>5.2</td>\n",
       "      <td>2.3</td>\n",
       "      <td>virginica</td>\n",
       "    </tr>\n",
       "    <tr>\n",
       "      <th>146</th>\n",
       "      <td>146</td>\n",
       "      <td>3</td>\n",
       "      <td>147</td>\n",
       "      <td>6.3</td>\n",
       "      <td>2.5</td>\n",
       "      <td>5.0</td>\n",
       "      <td>1.9</td>\n",
       "      <td>virginica</td>\n",
       "    </tr>\n",
       "    <tr>\n",
       "      <th>147</th>\n",
       "      <td>147</td>\n",
       "      <td>3</td>\n",
       "      <td>148</td>\n",
       "      <td>6.5</td>\n",
       "      <td>3.0</td>\n",
       "      <td>5.2</td>\n",
       "      <td>2.0</td>\n",
       "      <td>virginica</td>\n",
       "    </tr>\n",
       "    <tr>\n",
       "      <th>148</th>\n",
       "      <td>148</td>\n",
       "      <td>3</td>\n",
       "      <td>149</td>\n",
       "      <td>6.2</td>\n",
       "      <td>3.4</td>\n",
       "      <td>5.4</td>\n",
       "      <td>2.3</td>\n",
       "      <td>virginica</td>\n",
       "    </tr>\n",
       "    <tr>\n",
       "      <th>149</th>\n",
       "      <td>149</td>\n",
       "      <td>3</td>\n",
       "      <td>150</td>\n",
       "      <td>5.9</td>\n",
       "      <td>3.0</td>\n",
       "      <td>5.1</td>\n",
       "      <td>1.8</td>\n",
       "      <td>virginica</td>\n",
       "    </tr>\n",
       "  </tbody>\n",
       "</table>\n",
       "<p>150 rows × 8 columns</p>\n",
       "</div>"
      ],
      "text/plain": [
       "     Unnamed: 0  species_id  measurement_id  sepal_length  sepal_width  \\\n",
       "0             0           1               1           5.1          3.5   \n",
       "1             1           1               2           4.9          3.0   \n",
       "2             2           1               3           4.7          3.2   \n",
       "3             3           1               4           4.6          3.1   \n",
       "4             4           1               5           5.0          3.6   \n",
       "..          ...         ...             ...           ...          ...   \n",
       "145         145           3             146           6.7          3.0   \n",
       "146         146           3             147           6.3          2.5   \n",
       "147         147           3             148           6.5          3.0   \n",
       "148         148           3             149           6.2          3.4   \n",
       "149         149           3             150           5.9          3.0   \n",
       "\n",
       "     petal_length  petal_width species_name  \n",
       "0             1.4          0.2       setosa  \n",
       "1             1.4          0.2       setosa  \n",
       "2             1.3          0.2       setosa  \n",
       "3             1.5          0.2       setosa  \n",
       "4             1.4          0.2       setosa  \n",
       "..            ...          ...          ...  \n",
       "145           5.2          2.3    virginica  \n",
       "146           5.0          1.9    virginica  \n",
       "147           5.2          2.0    virginica  \n",
       "148           5.4          2.3    virginica  \n",
       "149           5.1          1.8    virginica  \n",
       "\n",
       "[150 rows x 8 columns]"
      ]
     },
     "execution_count": 1,
     "metadata": {},
     "output_type": "execute_result"
    }
   ],
   "source": [
    "# prep exercise\n",
    "from sklearn.model_selection import train_test_split\n",
    "from sklearn.impute import SimpleImputer\n",
    "import acquire\n",
    "import warnings\n",
    "import pandas as pd"
   ]
  },
  {
   "cell_type": "code",
   "execution_count": 2,
   "id": "fbf29f9b",
   "metadata": {},
   "outputs": [
    {
     "ename": "NameError",
     "evalue": "name 'df_iris' is not defined",
     "output_type": "error",
     "traceback": [
      "\u001b[0;31m---------------------------------------------------------------------------\u001b[0m",
      "\u001b[0;31mNameError\u001b[0m                                 Traceback (most recent call last)",
      "Input \u001b[0;32mIn [2]\u001b[0m, in \u001b[0;36m<cell line: 1>\u001b[0;34m()\u001b[0m\n\u001b[0;32m----> 1\u001b[0m \u001b[43mdf_iris\u001b[49m\u001b[38;5;241m.\u001b[39mdrop(columns\u001b[38;5;241m=\u001b[39m[\u001b[38;5;124m'\u001b[39m\u001b[38;5;124mspecies_id\u001b[39m\u001b[38;5;124m'\u001b[39m,\u001b[38;5;124m'\u001b[39m\u001b[38;5;124mmeasurement_id\u001b[39m\u001b[38;5;124m'\u001b[39m,\u001b[38;5;124m'\u001b[39m\u001b[38;5;124mUnnamed: 0\u001b[39m\u001b[38;5;124m'\u001b[39m],inplace\u001b[38;5;241m=\u001b[39m\u001b[38;5;28;01mTrue\u001b[39;00m)\n",
      "\u001b[0;31mNameError\u001b[0m: name 'df_iris' is not defined"
     ]
    }
   ],
   "source": [
    "df_iris.drop(columns=['species_id','measurement_id','Unnamed: 0'],inplace=True)"
   ]
  },
  {
   "cell_type": "code",
   "execution_count": null,
   "id": "5e66b9f2",
   "metadata": {},
   "outputs": [],
   "source": [
    "df_iris.rename(columns={'species_name':'species'},inplace=True)"
   ]
  },
  {
   "cell_type": "code",
   "execution_count": null,
   "id": "af9ac371",
   "metadata": {},
   "outputs": [],
   "source": []
  },
  {
   "cell_type": "code",
   "execution_count": null,
   "id": "921b0e5c",
   "metadata": {},
   "outputs": [],
   "source": [
    "dummy_df_iris = pd.get_dummies(df_iris.species, dummy_na=False, drop_first=[True])\n",
    "df_iris=pd.concat([df_iris,dummy_df_iris],axis=1)"
   ]
  },
  {
   "cell_type": "code",
   "execution_count": null,
   "id": "ed62e67d",
   "metadata": {},
   "outputs": [],
   "source": [
    "def prep_iris(df):\n",
    "    df_iris=acquire.get_iris_data()\n",
    "    df_iris.drop(columns=['species_id','measurement_id','Unnamed: 0'],inplace=True)\n",
    "    df_iris.rename(columns={'species_name':'species'},inplace=True)\n",
    "    dummy_df_iris= pd.get_dummies(df_iris.species, dummy_na=False, drop_first=[True])\n",
    "    df_iris=pd.concat([df_iris,dummy_df_iris],axis=1)\n",
    "    return df_iris"
   ]
  },
  {
   "cell_type": "code",
   "execution_count": null,
   "id": "25248aa5",
   "metadata": {},
   "outputs": [],
   "source": [
    "prep_iris(df_iris1)"
   ]
  },
  {
   "cell_type": "code",
   "execution_count": null,
   "id": "cc9bce4c",
   "metadata": {},
   "outputs": [],
   "source": [
    "def clean_iris(df):\n",
    "    df_iris=prep_iris(df)\n",
    "    train, test = train_test_split(df_iris, test_size=.2, \n",
    "                               random_state=123, stratify=df_iris['versicolor'])\n",
    "    n_train, validate = train_test_split(train, test_size=.25, \n",
    "                 random_state=123, stratify=train.versicolor)\n",
    "    \n",
    "    return n_train, validate, test"
   ]
  },
  {
   "cell_type": "code",
   "execution_count": null,
   "id": "4738c0c3",
   "metadata": {},
   "outputs": [],
   "source": [
    "clean_iris(df_iris1)"
   ]
  },
  {
   "cell_type": "code",
   "execution_count": null,
   "id": "3b960ba4",
   "metadata": {},
   "outputs": [],
   "source": [
    "df_titanic=acquire.get_titanic_data()"
   ]
  },
  {
   "cell_type": "code",
   "execution_count": null,
   "id": "a3290ffd",
   "metadata": {},
   "outputs": [],
   "source": [
    "df_titanic.drop(columns=['Unnamed: 0','embarked','age','deck','class'],inplace=True)"
   ]
  },
  {
   "cell_type": "code",
   "execution_count": null,
   "id": "06c718e9",
   "metadata": {},
   "outputs": [],
   "source": [
    "df_titanic"
   ]
  },
  {
   "cell_type": "code",
   "execution_count": null,
   "id": "c8cd5081",
   "metadata": {},
   "outputs": [],
   "source": [
    "dummy_df_titanic = pd.get_dummies(df_titanic[['sex','embark_town']], dummy_na=False, drop_first=[True])\n",
    "df_titanic=pd.concat([df_titanic ,dummy_df_titanic],axis=1)"
   ]
  },
  {
   "cell_type": "code",
   "execution_count": null,
   "id": "45a3291a",
   "metadata": {},
   "outputs": [],
   "source": [
    "def prep_titanic(df):\n",
    "    df_titanic=acquire.get_titanic_data()\n",
    "    df_titanic.drop(columns=['Unnamed: 0','embarked','age','deck','class'],inplace=True)\n",
    "    dummy_df_titanic = pd.get_dummies(df_titanic[['sex','embark_town']], dummy_na=False, drop_first=[True])\n",
    "    df_titanic=pd.concat([df_titanic ,dummy_df_titanic],axis=1)\n",
    "    return df_titanic"
   ]
  },
  {
   "cell_type": "code",
   "execution_count": null,
   "id": "3e68a291",
   "metadata": {},
   "outputs": [],
   "source": [
    "def split_titanic(df):\n",
    "    df_titanic=prep_titanic(df)\n",
    "    train, test = train_test_split(df_titanic, test_size=.2, \n",
    "                               random_state=123, stratify=df_titanic['survived'])\n",
    "    n_train, validate = train_test_split(train, test_size=.25, \n",
    "                 random_state=123, stratify=train.survived)\n",
    "    \n",
    "    return n_train, validate, test"
   ]
  },
  {
   "cell_type": "code",
   "execution_count": null,
   "id": "5c2ab8f7",
   "metadata": {},
   "outputs": [],
   "source": [
    "prep_titanic(df_titanic)"
   ]
  },
  {
   "cell_type": "code",
   "execution_count": null,
   "id": "84a4c96b",
   "metadata": {},
   "outputs": [],
   "source": [
    "df_telco=acquire.get_telco_data()"
   ]
  },
  {
   "cell_type": "code",
   "execution_count": null,
   "id": "23a41c54",
   "metadata": {},
   "outputs": [],
   "source": [
    "df_telco.drop(columns=['Unnamed: 0','internet_service_type_id','phone_service.1','multiple_lines.1','internet_service_type_id.1','online_security.1','online_backup.1','device_protection.1','contract_type_id','payment_type_id','tech_support.1','streaming_tv.1','streaming_movies.1','contract_type_id.1' ,'paperless_billing.1','payment_type_id.1','monthly_charges.1','total_charges.1','internet_service_type_id.2'],inplace=True)"
   ]
  },
  {
   "cell_type": "code",
   "execution_count": null,
   "id": "d8fe9ba1",
   "metadata": {},
   "outputs": [],
   "source": [
    "df_telco"
   ]
  },
  {
   "cell_type": "code",
   "execution_count": null,
   "id": "7bfc6ab3",
   "metadata": {},
   "outputs": [],
   "source": [
    "dummy_df_telco = pd.get_dummies(df_telco[['partner','dependents','phone_service','multiple_lines','online_security','online_backup','device_protection','tech_support','streaming_tv','streaming_movies','paperless_billing','churn','internet_service_type']], dummy_na=False, drop_first=[True])\n",
    "df_telco=pd.concat([df_telco ,dummy_df_telco],axis=1)"
   ]
  },
  {
   "cell_type": "code",
   "execution_count": null,
   "id": "71a040c2",
   "metadata": {},
   "outputs": [],
   "source": [
    "df_telco.drop(columns=['partner','dependents','phone_service','multiple_lines','online_security','online_backup','device_protection','tech_support','streaming_tv','streaming_movies','paperless_billing','churn','internet_service_type'],inplace=True)"
   ]
  },
  {
   "cell_type": "code",
   "execution_count": null,
   "id": "127f94b6",
   "metadata": {},
   "outputs": [],
   "source": [
    "def prep_telco(df):\n",
    "    df_telco=acquire.get_telco_data()\n",
    "    df_telco.drop(columns=['Unnamed: 0','internet_service_type_id','phone_service.1','multiple_lines.1','internet_service_type_id.1','online_security.1','online_backup.1','device_protection.1','contract_type_id','payment_type_id','tech_support.1','streaming_tv.1','streaming_movies.1','contract_type_id.1' ,'paperless_billing.1','payment_type_id.1','monthly_charges.1','total_charges.1','internet_service_type_id.2'],inplace=True)\n",
    "    dummy_df_telco = pd.get_dummies(df_telco[['partner','dependents','phone_service','multiple_lines','online_security','online_backup','device_protection','tech_support','streaming_tv','streaming_movies','paperless_billing','churn','internet_service_type']], dummy_na=False, drop_first=[True])\n",
    "    df_telco=pd.concat([df_telco ,dummy_df_telco],axis=1)\n",
    "    df_telco.drop(columns=['partner','dependents','phone_service','multiple_lines','online_security','online_backup','device_protection','tech_support','streaming_tv','streaming_movies','paperless_billing','churn','internet_service_type'],inplace=True)\n",
    "    return df_telco"
   ]
  },
  {
   "cell_type": "code",
   "execution_count": null,
   "id": "9b2c7fd0",
   "metadata": {},
   "outputs": [],
   "source": []
  },
  {
   "cell_type": "code",
   "execution_count": null,
   "id": "b7598264",
   "metadata": {},
   "outputs": [],
   "source": [
    "def split_telco(pre_telco):\n",
    "    prep_telco=prep_telco(df)\n",
    "    n_train, test = train_test_split(prep_telco, test_size=.2, \n",
    "                               random_state=123)\n",
    "    train, validate = train_test_split(n_train, test_size=.25, \n",
    "                 random_state=123)\n",
    "    \n",
    "    return train, validate, test"
   ]
  },
  {
   "cell_type": "code",
   "execution_count": null,
   "id": "09727f6e",
   "metadata": {},
   "outputs": [],
   "source": []
  },
  {
   "cell_type": "code",
   "execution_count": null,
   "id": "dcf28db8",
   "metadata": {},
   "outputs": [],
   "source": []
  }
 ],
 "metadata": {
  "kernelspec": {
   "display_name": "Python 3 (ipykernel)",
   "language": "python",
   "name": "python3"
  },
  "language_info": {
   "codemirror_mode": {
    "name": "ipython",
    "version": 3
   },
   "file_extension": ".py",
   "mimetype": "text/x-python",
   "name": "python",
   "nbconvert_exporter": "python",
   "pygments_lexer": "ipython3",
   "version": "3.9.12"
  }
 },
 "nbformat": 4,
 "nbformat_minor": 5
}
