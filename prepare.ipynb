{
 "cells": [
  {
   "cell_type": "code",
   "execution_count": 2,
   "id": "a6a004b4",
   "metadata": {},
   "outputs": [],
   "source": [
    "# prep exercise\n",
    "from sklearn.model_selection import train_test_split\n",
    "from sklearn.impute import SimpleImputer\n",
    "import acquire\n",
    "import warnings\n",
    "import pandas as pd"
   ]
  },
  {
   "cell_type": "code",
   "execution_count": 2,
   "id": "fbf29f9b",
   "metadata": {},
   "outputs": [
    {
     "ename": "NameError",
     "evalue": "name 'df_iris' is not defined",
     "output_type": "error",
     "traceback": [
      "\u001b[0;31m---------------------------------------------------------------------------\u001b[0m",
      "\u001b[0;31mNameError\u001b[0m                                 Traceback (most recent call last)",
      "Input \u001b[0;32mIn [2]\u001b[0m, in \u001b[0;36m<cell line: 1>\u001b[0;34m()\u001b[0m\n\u001b[0;32m----> 1\u001b[0m \u001b[43mdf_iris\u001b[49m\u001b[38;5;241m.\u001b[39mdrop(columns\u001b[38;5;241m=\u001b[39m[\u001b[38;5;124m'\u001b[39m\u001b[38;5;124mspecies_id\u001b[39m\u001b[38;5;124m'\u001b[39m,\u001b[38;5;124m'\u001b[39m\u001b[38;5;124mmeasurement_id\u001b[39m\u001b[38;5;124m'\u001b[39m,\u001b[38;5;124m'\u001b[39m\u001b[38;5;124mUnnamed: 0\u001b[39m\u001b[38;5;124m'\u001b[39m],inplace\u001b[38;5;241m=\u001b[39m\u001b[38;5;28;01mTrue\u001b[39;00m)\n",
      "\u001b[0;31mNameError\u001b[0m: name 'df_iris' is not defined"
     ]
    }
   ],
   "source": [
    "df_iris.drop(columns=['species_id','measurement_id','Unnamed: 0'],inplace=True)"
   ]
  },
  {
   "cell_type": "code",
   "execution_count": null,
   "id": "5e66b9f2",
   "metadata": {},
   "outputs": [],
   "source": [
    "df_iris.rename(columns={'species_name':'species'},inplace=True)"
   ]
  },
  {
   "cell_type": "code",
   "execution_count": null,
   "id": "af9ac371",
   "metadata": {},
   "outputs": [],
   "source": []
  },
  {
   "cell_type": "code",
   "execution_count": null,
   "id": "921b0e5c",
   "metadata": {},
   "outputs": [],
   "source": [
    "dummy_df_iris = pd.get_dummies(df_iris.species, dummy_na=False, drop_first=[True])\n",
    "df_iris=pd.concat([df_iris,dummy_df_iris],axis=1)"
   ]
  },
  {
   "cell_type": "code",
   "execution_count": null,
   "id": "ed62e67d",
   "metadata": {},
   "outputs": [],
   "source": [
    "def prep_iris(df):\n",
    "    df_iris=acquire.get_iris_data()\n",
    "    df_iris.drop(columns=['species_id','measurement_id','Unnamed: 0'],inplace=True)\n",
    "    df_iris.rename(columns={'species_name':'species'},inplace=True)\n",
    "    dummy_df_iris= pd.get_dummies(df_iris.species, dummy_na=False, drop_first=[True])\n",
    "    df_iris=pd.concat([df_iris,dummy_df_iris],axis=1)\n",
    "    return df_iris"
   ]
  },
  {
   "cell_type": "code",
   "execution_count": null,
   "id": "25248aa5",
   "metadata": {},
   "outputs": [],
   "source": []
  },
  {
   "cell_type": "code",
   "execution_count": null,
   "id": "cc9bce4c",
   "metadata": {},
   "outputs": [],
   "source": [
    "def clean_iris(df):\n",
    "    df_iris=prep_iris(df)\n",
    "    train, test = train_test_split(df_iris, test_size=.2, \n",
    "                               random_state=123, stratify=df_iris['versicolor'])\n",
    "    n_train, validate = train_test_split(train, test_size=.25, \n",
    "                 random_state=123, stratify=train.versicolor)\n",
    "    \n",
    "    return n_train, validate, test"
   ]
  },
  {
   "cell_type": "code",
   "execution_count": null,
   "id": "4738c0c3",
   "metadata": {},
   "outputs": [],
   "source": []
  },
  {
   "cell_type": "code",
   "execution_count": null,
   "id": "3b960ba4",
   "metadata": {},
   "outputs": [],
   "source": [
    "df_titanic=acquire.get_titanic_data()"
   ]
  },
  {
   "cell_type": "code",
   "execution_count": null,
   "id": "a3290ffd",
   "metadata": {},
   "outputs": [],
   "source": [
    "df_titanic.drop(columns=['Unnamed: 0','embarked','age','deck','class'],inplace=True)"
   ]
  },
  {
   "cell_type": "code",
   "execution_count": null,
   "id": "06c718e9",
   "metadata": {},
   "outputs": [],
   "source": [
    "df_titanic"
   ]
  },
  {
   "cell_type": "code",
   "execution_count": null,
   "id": "c8cd5081",
   "metadata": {},
   "outputs": [],
   "source": [
    "dummy_df_titanic = pd.get_dummies(df_titanic[['sex','embark_town']], dummy_na=False, drop_first=[True])\n",
    "df_titanic=pd.concat([df_titanic ,dummy_df_titanic],axis=1)"
   ]
  },
  {
   "cell_type": "code",
   "execution_count": null,
   "id": "45a3291a",
   "metadata": {},
   "outputs": [],
   "source": [
    "def prep_titanic(df):\n",
    "    df_titanic=acquire.get_titanic_data()\n",
    "    df_titanic.drop(columns=['Unnamed: 0','embarked','age','deck','class'],inplace=True)\n",
    "    dummy_df_titanic = pd.get_dummies(df_titanic[['sex','embark_town']], dummy_na=False, drop_first=[True])\n",
    "    df_titanic=pd.concat([df_titanic ,dummy_df_titanic],axis=1)\n",
    "    return df_titanic"
   ]
  },
  {
   "cell_type": "code",
   "execution_count": null,
   "id": "3e68a291",
   "metadata": {},
   "outputs": [],
   "source": [
    "def split_titanic(df):\n",
    "    df_titanic=prep_titanic(df)\n",
    "    train, test = train_test_split(df_titanic, test_size=.2, \n",
    "                               random_state=123, stratify=df_titanic['survived'])\n",
    "    n_train, validate = train_test_split(train, test_size=.25, \n",
    "                 random_state=123, stratify=train.survived)\n",
    "    \n",
    "    return n_train, validate, test"
   ]
  },
  {
   "cell_type": "code",
   "execution_count": 1,
   "id": "5c2ab8f7",
   "metadata": {},
   "outputs": [
    {
     "ename": "NameError",
     "evalue": "name 'prep_titanic' is not defined",
     "output_type": "error",
     "traceback": [
      "\u001b[0;31m---------------------------------------------------------------------------\u001b[0m",
      "\u001b[0;31mNameError\u001b[0m                                 Traceback (most recent call last)",
      "Input \u001b[0;32mIn [1]\u001b[0m, in \u001b[0;36m<cell line: 1>\u001b[0;34m()\u001b[0m\n\u001b[0;32m----> 1\u001b[0m \u001b[43mprep_titanic\u001b[49m(df_titanic)\n",
      "\u001b[0;31mNameError\u001b[0m: name 'prep_titanic' is not defined"
     ]
    }
   ],
   "source": [
    "prep_titanic(df_titanic)"
   ]
  },
  {
   "cell_type": "code",
   "execution_count": 3,
   "id": "84a4c96b",
   "metadata": {},
   "outputs": [],
   "source": [
    "df_telco=acquire.get_telco_data()"
   ]
  },
  {
   "cell_type": "code",
   "execution_count": 7,
   "id": "23a41c54",
   "metadata": {},
   "outputs": [],
   "source": [
    "df_telco.drop(columns=['internet_service_type_id','contract_type_id','payment_type_id',\n",
    "                       ],inplace=True)"
   ]
  },
  {
   "cell_type": "code",
   "execution_count": 6,
   "id": "d8fe9ba1",
   "metadata": {
    "scrolled": true
   },
   "outputs": [
    {
     "data": {
      "text/plain": [
       "Index(['customer_id', 'gender', 'senior_citizen', 'partner', 'dependents',\n",
       "       'tenure', 'phone_service', 'multiple_lines', 'internet_service_type_id',\n",
       "       'online_security', 'online_backup', 'device_protection', 'tech_support',\n",
       "       'streaming_tv', 'streaming_movies', 'contract_type_id',\n",
       "       'paperless_billing', 'payment_type_id', 'monthly_charges',\n",
       "       'total_charges', 'churn', 'phone_service', 'multiple_lines',\n",
       "       'internet_service_type_id', 'online_security', 'online_backup',\n",
       "       'device_protection', 'tech_support', 'streaming_tv', 'streaming_movies',\n",
       "       'contract_type_id', 'paperless_billing', 'payment_type_id',\n",
       "       'monthly_charges', 'total_charges', 'internet_service_type_id',\n",
       "       'internet_service_type'],\n",
       "      dtype='object')"
      ]
     },
     "execution_count": 6,
     "metadata": {},
     "output_type": "execute_result"
    }
   ],
   "source": []
  },
  {
   "cell_type": "code",
   "execution_count": null,
   "id": "7bfc6ab3",
   "metadata": {},
   "outputs": [],
   "source": [
    "dummy_df_telco = pd.get_dummies(df_telco[['partner','dependents','phone_service','multiple_lines','online_security','online_backup','device_protection','tech_support','streaming_tv','streaming_movies','paperless_billing','churn','internet_service_type']], dummy_na=False, drop_first=[True])\n",
    "df_telco=pd.concat([df_telco ,dummy_df_telco],axis=1)"
   ]
  },
  {
   "cell_type": "code",
   "execution_count": null,
   "id": "71a040c2",
   "metadata": {},
   "outputs": [],
   "source": [
    "df_telco.drop(columns=['partner','dependents','phone_service','multiple_lines','online_security','online_backup','device_protection','tech_support','streaming_tv','streaming_movies','paperless_billing','churn','internet_service_type'],inplace=True)"
   ]
  },
  {
   "cell_type": "code",
   "execution_count": 8,
   "id": "127f94b6",
   "metadata": {},
   "outputs": [],
   "source": [
    "def prep_telco(df):\n",
    "    df_telco=acquire.get_telco_data()\n",
    "    df_telco.drop(columns=['internet_service_type_id','contract_type_id','payment_type_id',\n",
    "                       ],inplace=True)\n",
    "    dummy_df_telco = pd.get_dummies(df_telco[['partner','dependents','phone_service','multiple_lines','online_security','online_backup','device_protection','tech_support','streaming_tv','streaming_movies','paperless_billing','churn','internet_service_type']], dummy_na=False, drop_first=[True])\n",
    "    df_telco=pd.concat([df_telco ,dummy_df_telco],axis=1)\n",
    "    df_telco.drop(columns=['partner','dependents','phone_service','multiple_lines','online_security','online_backup','device_protection','tech_support','streaming_tv','streaming_movies','paperless_billing','churn','internet_service_type'],inplace=True)\n",
    "    return df_telco"
   ]
  },
  {
   "cell_type": "code",
   "execution_count": null,
   "id": "9b2c7fd0",
   "metadata": {},
   "outputs": [],
   "source": []
  },
  {
   "cell_type": "code",
   "execution_count": null,
   "id": "b7598264",
   "metadata": {},
   "outputs": [],
   "source": [
    "def split_telco(pre_telco):\n",
    "    prep_telco=prep_telco(df)\n",
    "    n_train, test = train_test_split(prep_telco, test_size=.2, \n",
    "                               random_state=123)\n",
    "    train, validate = train_test_split(n_train, test_size=.25, \n",
    "                 random_state=123)\n",
    "    \n",
    "    return train, validate, test"
   ]
  },
  {
   "cell_type": "code",
   "execution_count": null,
   "id": "09727f6e",
   "metadata": {},
   "outputs": [],
   "source": []
  },
  {
   "cell_type": "code",
   "execution_count": null,
   "id": "dcf28db8",
   "metadata": {},
   "outputs": [],
   "source": []
  }
 ],
 "metadata": {
  "kernelspec": {
   "display_name": "Python 3 (ipykernel)",
   "language": "python",
   "name": "python3"
  },
  "language_info": {
   "codemirror_mode": {
    "name": "ipython",
    "version": 3
   },
   "file_extension": ".py",
   "mimetype": "text/x-python",
   "name": "python",
   "nbconvert_exporter": "python",
   "pygments_lexer": "ipython3",
   "version": "3.9.12"
  }
 },
 "nbformat": 4,
 "nbformat_minor": 5
}
