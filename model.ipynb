{
 "cells": [
  {
   "cell_type": "code",
   "execution_count": 33,
   "id": "09224452",
   "metadata": {},
   "outputs": [],
   "source": [
    "# ignore warnings\n",
    "import warnings\n",
    "import pandas as pd\n",
    "warnings.filterwarnings(\"ignore\")\n",
    "\n",
    "import numpy as np\n",
    "\n",
    "from pydataset import data\n",
    "\n",
    "from sklearn.model_selection import train_test_split\n",
    "from sklearn.tree import DecisionTreeClassifier, plot_tree\n",
    "from sklearn.metrics import classification_report\n",
    "from sklearn.metrics import confusion_matrix\n",
    "import acquire\n",
    "import prepare\n",
    "import matplotlib.pyplot as plt\n",
    "import seaborn as sns\n"
   ]
  },
  {
   "cell_type": "code",
   "execution_count": 34,
   "id": "e094a067",
   "metadata": {},
   "outputs": [],
   "source": [
    "titanic_df=acquire.get_titanic_data()\n",
    "prep_titanic=prepare.prep_titanic(titanic_df)\n",
    "titanic_train,titanic_validate,titanic_test=prepare.split_titanic(prep_titanic)"
   ]
  },
  {
   "cell_type": "code",
   "execution_count": 35,
   "id": "f0c31a1b",
   "metadata": {},
   "outputs": [
    {
     "data": {
      "text/html": [
       "<div>\n",
       "<style scoped>\n",
       "    .dataframe tbody tr th:only-of-type {\n",
       "        vertical-align: middle;\n",
       "    }\n",
       "\n",
       "    .dataframe tbody tr th {\n",
       "        vertical-align: top;\n",
       "    }\n",
       "\n",
       "    .dataframe thead th {\n",
       "        text-align: right;\n",
       "    }\n",
       "</style>\n",
       "<table border=\"1\" class=\"dataframe\">\n",
       "  <thead>\n",
       "    <tr style=\"text-align: right;\">\n",
       "      <th></th>\n",
       "      <th>passenger_id</th>\n",
       "      <th>survived</th>\n",
       "      <th>pclass</th>\n",
       "      <th>sex</th>\n",
       "      <th>sibsp</th>\n",
       "      <th>parch</th>\n",
       "      <th>fare</th>\n",
       "      <th>embark_town</th>\n",
       "      <th>alone</th>\n",
       "      <th>sex_male</th>\n",
       "      <th>embark_town_Queenstown</th>\n",
       "      <th>embark_town_Southampton</th>\n",
       "    </tr>\n",
       "  </thead>\n",
       "  <tbody>\n",
       "    <tr>\n",
       "      <th>455</th>\n",
       "      <td>455</td>\n",
       "      <td>1</td>\n",
       "      <td>3</td>\n",
       "      <td>male</td>\n",
       "      <td>0</td>\n",
       "      <td>0</td>\n",
       "      <td>7.8958</td>\n",
       "      <td>Cherbourg</td>\n",
       "      <td>1</td>\n",
       "      <td>1</td>\n",
       "      <td>0</td>\n",
       "      <td>0</td>\n",
       "    </tr>\n",
       "    <tr>\n",
       "      <th>380</th>\n",
       "      <td>380</td>\n",
       "      <td>1</td>\n",
       "      <td>1</td>\n",
       "      <td>female</td>\n",
       "      <td>0</td>\n",
       "      <td>0</td>\n",
       "      <td>227.5250</td>\n",
       "      <td>Cherbourg</td>\n",
       "      <td>1</td>\n",
       "      <td>0</td>\n",
       "      <td>0</td>\n",
       "      <td>0</td>\n",
       "    </tr>\n",
       "    <tr>\n",
       "      <th>492</th>\n",
       "      <td>492</td>\n",
       "      <td>0</td>\n",
       "      <td>1</td>\n",
       "      <td>male</td>\n",
       "      <td>0</td>\n",
       "      <td>0</td>\n",
       "      <td>30.5000</td>\n",
       "      <td>Southampton</td>\n",
       "      <td>1</td>\n",
       "      <td>1</td>\n",
       "      <td>0</td>\n",
       "      <td>1</td>\n",
       "    </tr>\n",
       "    <tr>\n",
       "      <th>55</th>\n",
       "      <td>55</td>\n",
       "      <td>1</td>\n",
       "      <td>1</td>\n",
       "      <td>male</td>\n",
       "      <td>0</td>\n",
       "      <td>0</td>\n",
       "      <td>35.5000</td>\n",
       "      <td>Southampton</td>\n",
       "      <td>1</td>\n",
       "      <td>1</td>\n",
       "      <td>0</td>\n",
       "      <td>1</td>\n",
       "    </tr>\n",
       "    <tr>\n",
       "      <th>243</th>\n",
       "      <td>243</td>\n",
       "      <td>0</td>\n",
       "      <td>3</td>\n",
       "      <td>male</td>\n",
       "      <td>0</td>\n",
       "      <td>0</td>\n",
       "      <td>7.1250</td>\n",
       "      <td>Southampton</td>\n",
       "      <td>1</td>\n",
       "      <td>1</td>\n",
       "      <td>0</td>\n",
       "      <td>1</td>\n",
       "    </tr>\n",
       "  </tbody>\n",
       "</table>\n",
       "</div>"
      ],
      "text/plain": [
       "     passenger_id  survived  pclass     sex  sibsp  parch      fare  \\\n",
       "455           455         1       3    male      0      0    7.8958   \n",
       "380           380         1       1  female      0      0  227.5250   \n",
       "492           492         0       1    male      0      0   30.5000   \n",
       "55             55         1       1    male      0      0   35.5000   \n",
       "243           243         0       3    male      0      0    7.1250   \n",
       "\n",
       "     embark_town  alone  sex_male  embark_town_Queenstown  \\\n",
       "455    Cherbourg      1         1                       0   \n",
       "380    Cherbourg      1         0                       0   \n",
       "492  Southampton      1         1                       0   \n",
       "55   Southampton      1         1                       0   \n",
       "243  Southampton      1         1                       0   \n",
       "\n",
       "     embark_town_Southampton  \n",
       "455                        0  \n",
       "380                        0  \n",
       "492                        1  \n",
       "55                         1  \n",
       "243                        1  "
      ]
     },
     "execution_count": 35,
     "metadata": {},
     "output_type": "execute_result"
    }
   ],
   "source": [
    "titanic_train.head()"
   ]
  },
  {
   "cell_type": "code",
   "execution_count": 36,
   "id": "d590942c",
   "metadata": {},
   "outputs": [
    {
     "name": "stdout",
     "output_type": "stream",
     "text": [
      "<class 'pandas.core.frame.DataFrame'>\n",
      "Int64Index: 534 entries, 455 to 496\n",
      "Data columns (total 12 columns):\n",
      " #   Column                   Non-Null Count  Dtype  \n",
      "---  ------                   --------------  -----  \n",
      " 0   passenger_id             534 non-null    int64  \n",
      " 1   survived                 534 non-null    int64  \n",
      " 2   pclass                   534 non-null    int64  \n",
      " 3   sex                      534 non-null    object \n",
      " 4   sibsp                    534 non-null    int64  \n",
      " 5   parch                    534 non-null    int64  \n",
      " 6   fare                     534 non-null    float64\n",
      " 7   embark_town              533 non-null    object \n",
      " 8   alone                    534 non-null    int64  \n",
      " 9   sex_male                 534 non-null    uint8  \n",
      " 10  embark_town_Queenstown   534 non-null    uint8  \n",
      " 11  embark_town_Southampton  534 non-null    uint8  \n",
      "dtypes: float64(1), int64(6), object(2), uint8(3)\n",
      "memory usage: 43.3+ KB\n"
     ]
    }
   ],
   "source": [
    "titanic_train.info()\n",
    "titanic_train.drop(columns=['sex','embark_town'],inplace=True)\n",
    "titanic_validate.drop(columns=['sex','embark_town'],inplace=True)"
   ]
  },
  {
   "cell_type": "code",
   "execution_count": 37,
   "id": "0368237d",
   "metadata": {},
   "outputs": [
    {
     "data": {
      "text/plain": [
       "0    0\n",
       "Name: survived, dtype: int64"
      ]
     },
     "execution_count": 37,
     "metadata": {},
     "output_type": "execute_result"
    }
   ],
   "source": [
    "titanic_train.survived.mode()"
   ]
  },
  {
   "cell_type": "code",
   "execution_count": 75,
   "id": "c14b66f9",
   "metadata": {},
   "outputs": [],
   "source": [
    "x_train = titanic_train.drop(columns=['survived'])\n",
    "y_train = titanic_train.survived\n",
    "\n",
    "x_validate = titanic_validate.drop(columns=['survived'])\n",
    "y_validate = titanic_validate.survived\n",
    "\n",
    "x_test = titanic_test.drop(columns=['survived'])\n",
    "y_test = titanic_test.survived"
   ]
  },
  {
   "cell_type": "code",
   "execution_count": 39,
   "id": "6babd7aa",
   "metadata": {},
   "outputs": [
    {
     "data": {
      "text/plain": [
       "0.6161048689138576"
      ]
     },
     "execution_count": 39,
     "metadata": {},
     "output_type": "execute_result"
    }
   ],
   "source": [
    "(y_train==0).mean()"
   ]
  },
  {
   "cell_type": "markdown",
   "id": "68d648f6",
   "metadata": {},
   "source": [
    "The baseline is not survived, and the accuracy is .62"
   ]
  },
  {
   "cell_type": "code",
   "execution_count": 40,
   "id": "ccccf154",
   "metadata": {},
   "outputs": [],
   "source": [
    "clf = DecisionTreeClassifier(max_depth=3, random_state=123)\n",
    "clf = clf.fit(x_train, y_train)"
   ]
  },
  {
   "cell_type": "code",
   "execution_count": 41,
   "id": "d52954e0",
   "metadata": {},
   "outputs": [
    {
     "data": {
      "text/plain": [
       "[Text(0.5, 0.875, 'sex_male <= 0.5\\ngini = 0.473\\nsamples = 534\\nvalue = [329, 205]'),\n",
       " Text(0.25, 0.625, 'pclass <= 2.5\\ngini = 0.372\\nsamples = 186\\nvalue = [46, 140]'),\n",
       " Text(0.125, 0.375, 'passenger_id <= 298.0\\ngini = 0.078\\nsamples = 98\\nvalue = [4, 94]'),\n",
       " Text(0.0625, 0.125, 'gini = 0.252\\nsamples = 27\\nvalue = [4, 23]'),\n",
       " Text(0.1875, 0.125, 'gini = 0.0\\nsamples = 71\\nvalue = [0, 71]'),\n",
       " Text(0.375, 0.375, 'fare <= 24.808\\ngini = 0.499\\nsamples = 88\\nvalue = [42, 46]'),\n",
       " Text(0.3125, 0.125, 'gini = 0.48\\nsamples = 75\\nvalue = [30, 45]'),\n",
       " Text(0.4375, 0.125, 'gini = 0.142\\nsamples = 13\\nvalue = [12, 1]'),\n",
       " Text(0.75, 0.625, 'fare <= 18.275\\ngini = 0.304\\nsamples = 348\\nvalue = [283, 65]'),\n",
       " Text(0.625, 0.375, 'passenger_id <= 36.5\\ngini = 0.193\\nsamples = 222\\nvalue = [198, 24]'),\n",
       " Text(0.5625, 0.125, 'gini = 0.48\\nsamples = 5\\nvalue = [2, 3]'),\n",
       " Text(0.6875, 0.125, 'gini = 0.175\\nsamples = 217\\nvalue = [196, 21]'),\n",
       " Text(0.875, 0.375, 'passenger_id <= 164.5\\ngini = 0.439\\nsamples = 126\\nvalue = [85, 41]'),\n",
       " Text(0.8125, 0.125, 'gini = 0.231\\nsamples = 30\\nvalue = [26, 4]'),\n",
       " Text(0.9375, 0.125, 'gini = 0.474\\nsamples = 96\\nvalue = [59, 37]')]"
      ]
     },
     "execution_count": 41,
     "metadata": {},
     "output_type": "execute_result"
    },
    {
     "data": {
      "image/png": "[encoded data removed]",
      "text/plain": [
       "<Figure size 936x504 with 1 Axes>"
      ]
     },
     "metadata": {
      "needs_background": "light"
     },
     "output_type": "display_data"
    }
   ],
   "source": [
    "plt.figure(figsize=(13, 7))\n",
    "plot_tree(clf, feature_names=x_train.columns, rounded=True)"
   ]
  },
  {
   "cell_type": "code",
   "execution_count": 42,
   "id": "fcb260f9",
   "metadata": {},
   "outputs": [
    {
     "data": {
      "text/html": [
       "<div>\n",
       "<style scoped>\n",
       "    .dataframe tbody tr th:only-of-type {\n",
       "        vertical-align: middle;\n",
       "    }\n",
       "\n",
       "    .dataframe tbody tr th {\n",
       "        vertical-align: top;\n",
       "    }\n",
       "\n",
       "    .dataframe thead th {\n",
       "        text-align: right;\n",
       "    }\n",
       "</style>\n",
       "<table border=\"1\" class=\"dataframe\">\n",
       "  <thead>\n",
       "    <tr style=\"text-align: right;\">\n",
       "      <th></th>\n",
       "      <th>survived</th>\n",
       "      <th>baseline</th>\n",
       "      <th>model_1</th>\n",
       "    </tr>\n",
       "  </thead>\n",
       "  <tbody>\n",
       "    <tr>\n",
       "      <th>455</th>\n",
       "      <td>1</td>\n",
       "      <td>0</td>\n",
       "      <td>0</td>\n",
       "    </tr>\n",
       "    <tr>\n",
       "      <th>380</th>\n",
       "      <td>1</td>\n",
       "      <td>0</td>\n",
       "      <td>1</td>\n",
       "    </tr>\n",
       "    <tr>\n",
       "      <th>492</th>\n",
       "      <td>0</td>\n",
       "      <td>0</td>\n",
       "      <td>0</td>\n",
       "    </tr>\n",
       "    <tr>\n",
       "      <th>55</th>\n",
       "      <td>1</td>\n",
       "      <td>0</td>\n",
       "      <td>0</td>\n",
       "    </tr>\n",
       "    <tr>\n",
       "      <th>243</th>\n",
       "      <td>0</td>\n",
       "      <td>0</td>\n",
       "      <td>0</td>\n",
       "    </tr>\n",
       "    <tr>\n",
       "      <th>...</th>\n",
       "      <td>...</td>\n",
       "      <td>...</td>\n",
       "      <td>...</td>\n",
       "    </tr>\n",
       "    <tr>\n",
       "      <th>695</th>\n",
       "      <td>0</td>\n",
       "      <td>0</td>\n",
       "      <td>0</td>\n",
       "    </tr>\n",
       "    <tr>\n",
       "      <th>128</th>\n",
       "      <td>1</td>\n",
       "      <td>0</td>\n",
       "      <td>1</td>\n",
       "    </tr>\n",
       "    <tr>\n",
       "      <th>636</th>\n",
       "      <td>0</td>\n",
       "      <td>0</td>\n",
       "      <td>0</td>\n",
       "    </tr>\n",
       "    <tr>\n",
       "      <th>222</th>\n",
       "      <td>0</td>\n",
       "      <td>0</td>\n",
       "      <td>0</td>\n",
       "    </tr>\n",
       "    <tr>\n",
       "      <th>496</th>\n",
       "      <td>1</td>\n",
       "      <td>0</td>\n",
       "      <td>1</td>\n",
       "    </tr>\n",
       "  </tbody>\n",
       "</table>\n",
       "<p>534 rows × 3 columns</p>\n",
       "</div>"
      ],
      "text/plain": [
       "     survived  baseline  model_1\n",
       "455         1         0        0\n",
       "380         1         0        1\n",
       "492         0         0        0\n",
       "55          1         0        0\n",
       "243         0         0        0\n",
       "..        ...       ...      ...\n",
       "695         0         0        0\n",
       "128         1         0        1\n",
       "636         0         0        0\n",
       "222         0         0        0\n",
       "496         1         0        1\n",
       "\n",
       "[534 rows x 3 columns]"
      ]
     },
     "execution_count": 42,
     "metadata": {},
     "output_type": "execute_result"
    }
   ],
   "source": [
    "y_pred = pd.DataFrame({'survived': y_train,'baseline': 0, 'model_1':clf.predict(x_train)})\n",
    "y_pred"
   ]
  },
  {
   "cell_type": "code",
   "execution_count": 43,
   "id": "eeb9d558",
   "metadata": {},
   "outputs": [
    {
     "data": {
      "text/plain": [
       "array([[0.90322581, 0.09677419],\n",
       "       [0.        , 1.        ],\n",
       "       [0.61458333, 0.38541667],\n",
       "       [0.86666667, 0.13333333],\n",
       "       [0.90322581, 0.09677419]])"
      ]
     },
     "execution_count": 43,
     "metadata": {},
     "output_type": "execute_result"
    }
   ],
   "source": [
    "y_pred_proba = clf.predict_proba(x_train)\n",
    "y_pred_proba[0:5]"
   ]
  },
  {
   "cell_type": "code",
   "execution_count": 44,
   "id": "022c7374",
   "metadata": {},
   "outputs": [
    {
     "name": "stdout",
     "output_type": "stream",
     "text": [
      "Accuracy of Decision Tree classifier on training set: 0.81\n"
     ]
    }
   ],
   "source": [
    "print('Accuracy of Decision Tree classifier on training set: {:.2f}'\n",
    "      .format(clf.score(x_train, y_train)))"
   ]
  },
  {
   "cell_type": "code",
   "execution_count": 45,
   "id": "ce0f584b",
   "metadata": {},
   "outputs": [
    {
     "data": {
      "text/plain": [
       "array([[293,  36],\n",
       "       [ 63, 142]])"
      ]
     },
     "execution_count": 45,
     "metadata": {},
     "output_type": "execute_result"
    }
   ],
   "source": [
    "confusion_matrix(y_pred.survived, y_pred.model_1)"
   ]
  },
  {
   "cell_type": "code",
   "execution_count": 46,
   "id": "010ac70f",
   "metadata": {},
   "outputs": [
    {
     "name": "stdout",
     "output_type": "stream",
     "text": [
      "              precision    recall  f1-score   support\n",
      "\n",
      "           0       0.82      0.89      0.86       329\n",
      "           1       0.80      0.69      0.74       205\n",
      "\n",
      "    accuracy                           0.81       534\n",
      "   macro avg       0.81      0.79      0.80       534\n",
      "weighted avg       0.81      0.81      0.81       534\n",
      "\n"
     ]
    }
   ],
   "source": [
    "print(classification_report(y_pred.survived,y_pred.model_1))"
   ]
  },
  {
   "cell_type": "markdown",
   "id": "380369f6",
   "metadata": {},
   "source": [
    "This model 1 is not overfit, with a accuracy about 82%."
   ]
  },
  {
   "cell_type": "code",
   "execution_count": 47,
   "id": "f72a95ad",
   "metadata": {},
   "outputs": [
    {
     "data": {
      "text/html": [
       "<div>\n",
       "<style scoped>\n",
       "    .dataframe tbody tr th:only-of-type {\n",
       "        vertical-align: middle;\n",
       "    }\n",
       "\n",
       "    .dataframe tbody tr th {\n",
       "        vertical-align: top;\n",
       "    }\n",
       "\n",
       "    .dataframe thead th {\n",
       "        text-align: right;\n",
       "    }\n",
       "</style>\n",
       "<table border=\"1\" class=\"dataframe\">\n",
       "  <thead>\n",
       "    <tr style=\"text-align: right;\">\n",
       "      <th></th>\n",
       "      <th>prep_notsurvived</th>\n",
       "      <th>prep_survived</th>\n",
       "    </tr>\n",
       "  </thead>\n",
       "  <tbody>\n",
       "    <tr>\n",
       "      <th>actual_notsurvived</th>\n",
       "      <td>293</td>\n",
       "      <td>36</td>\n",
       "    </tr>\n",
       "    <tr>\n",
       "      <th>acutal_survived</th>\n",
       "      <td>63</td>\n",
       "      <td>142</td>\n",
       "    </tr>\n",
       "  </tbody>\n",
       "</table>\n",
       "</div>"
      ],
      "text/plain": [
       "                    prep_notsurvived  prep_survived\n",
       "actual_notsurvived               293             36\n",
       "acutal_survived                   63            142"
      ]
     },
     "execution_count": 47,
     "metadata": {},
     "output_type": "execute_result"
    }
   ],
   "source": [
    "pd.DataFrame(confusion_matrix(y_pred.survived, y_pred.model_1), index=['actual_notsurvived','acutal_survived'], columns=['prep_notsurvived','prep_survived'])"
   ]
  },
  {
   "cell_type": "code",
   "execution_count": 48,
   "id": "77d017bb",
   "metadata": {},
   "outputs": [],
   "source": [
    "TN = 276\n",
    "FP = 31\n",
    "FN = 57\n",
    "TP = 134"
   ]
  },
  {
   "cell_type": "code",
   "execution_count": 49,
   "id": "95172995",
   "metadata": {},
   "outputs": [],
   "source": [
    "all = TP + FP + FN + TN\n",
    "acc = (TP + TN) / all\n",
    "\n",
    "TurePositiveRate = recall = TP/ (TP + FN)\n",
    "\n",
    "FalsePositiveRate = FP / (FP + TN)\n",
    "\n",
    "TrueNegativeRate = TN / (TN + FP)\n",
    "\n",
    "FalseNegativeRate = FN / (FN + TP)\n",
    "\n",
    "precision = TP / (TP + FP)\n",
    "\n",
    "f1_score = 2 * (precision*recall) / (precision+recall)\n",
    "\n",
    "support_pos = TP + FN\n",
    "support_neg = FP + TN"
   ]
  },
  {
   "cell_type": "code",
   "execution_count": 50,
   "id": "6b669a93",
   "metadata": {},
   "outputs": [
    {
     "name": "stdout",
     "output_type": "stream",
     "text": [
      "accuracy is: 0.8232931726907631 Ture Positive Rate is: 0.7015706806282722 False Positive Rate is: 0.10097719869706841 /n True Negative Rate is: 0.8990228013029316 False Negative Rate is: 0.29842931937172773 precision is: 0.8121212121212121 /n f1_score is: 0.752808988764045 support_pos is: 191 support_neg is: 307\n"
     ]
    }
   ],
   "source": [
    "print('accuracy is:',acc,'Ture Positive Rate is:',TurePositiveRate,'False Positive Rate is:',FalsePositiveRate,'/n',\n",
    "      'True Negative Rate is:',TrueNegativeRate,'False Negative Rate is:',FalseNegativeRate,'precision is:',precision,'/n',\n",
    "      'f1_score is:',f1_score,'support_pos is:',support_pos,'support_neg is:',support_neg)"
   ]
  },
  {
   "cell_type": "code",
   "execution_count": 54,
   "id": "fee239d7",
   "metadata": {},
   "outputs": [
    {
     "name": "stdout",
     "output_type": "stream",
     "text": [
      "              precision    recall  f1-score   support\n",
      "\n",
      "           0       0.82      0.89      0.86       329\n",
      "           1       0.80      0.69      0.74       205\n",
      "\n",
      "    accuracy                           0.81       534\n",
      "   macro avg       0.81      0.79      0.80       534\n",
      "weighted avg       0.81      0.81      0.81       534\n",
      "\n"
     ]
    }
   ],
   "source": [
    "print(classification_report(y_train, y_pred.model_1))"
   ]
  },
  {
   "cell_type": "code",
   "execution_count": 55,
   "id": "e4fcdb75",
   "metadata": {},
   "outputs": [],
   "source": [
    "# secondtest"
   ]
  },
  {
   "cell_type": "code",
   "execution_count": 56,
   "id": "e29411e2",
   "metadata": {},
   "outputs": [],
   "source": [
    "clfsecondtest = DecisionTreeClassifier(max_depth=5, random_state=123)\n",
    "clfsecondtest = clfsecondtest.fit(x_train, y_train)"
   ]
  },
  {
   "cell_type": "code",
   "execution_count": 57,
   "id": "fc4fd519",
   "metadata": {},
   "outputs": [
    {
     "data": {
      "text/plain": [
       "[Text(0.4375, 0.9166666666666666, 'sex_male <= 0.5\\ngini = 0.473\\nsamples = 534\\nvalue = [329, 205]'),\n",
       " Text(0.19078947368421054, 0.75, 'pclass <= 2.5\\ngini = 0.372\\nsamples = 186\\nvalue = [46, 140]'),\n",
       " Text(0.10526315789473684, 0.5833333333333334, 'passenger_id <= 298.0\\ngini = 0.078\\nsamples = 98\\nvalue = [4, 94]'),\n",
       " Text(0.07894736842105263, 0.4166666666666667, 'passenger_id <= 294.0\\ngini = 0.252\\nsamples = 27\\nvalue = [4, 23]'),\n",
       " Text(0.05263157894736842, 0.25, 'fare <= 29.392\\ngini = 0.204\\nsamples = 26\\nvalue = [3, 23]'),\n",
       " Text(0.02631578947368421, 0.08333333333333333, 'gini = 0.32\\nsamples = 15\\nvalue = [3, 12]'),\n",
       " Text(0.07894736842105263, 0.08333333333333333, 'gini = 0.0\\nsamples = 11\\nvalue = [0, 11]'),\n",
       " Text(0.10526315789473684, 0.25, 'gini = 0.0\\nsamples = 1\\nvalue = [1, 0]'),\n",
       " Text(0.13157894736842105, 0.4166666666666667, 'gini = 0.0\\nsamples = 71\\nvalue = [0, 71]'),\n",
       " Text(0.27631578947368424, 0.5833333333333334, 'fare <= 24.808\\ngini = 0.499\\nsamples = 88\\nvalue = [42, 46]'),\n",
       " Text(0.21052631578947367, 0.4166666666666667, 'embark_town_Queenstown <= 0.5\\ngini = 0.48\\nsamples = 75\\nvalue = [30, 45]'),\n",
       " Text(0.15789473684210525, 0.25, 'fare <= 7.523\\ngini = 0.5\\nsamples = 53\\nvalue = [26, 27]'),\n",
       " Text(0.13157894736842105, 0.08333333333333333, 'gini = 0.0\\nsamples = 4\\nvalue = [0, 4]'),\n",
       " Text(0.18421052631578946, 0.08333333333333333, 'gini = 0.498\\nsamples = 49\\nvalue = [26, 23]'),\n",
       " Text(0.2631578947368421, 0.25, 'fare <= 7.681\\ngini = 0.298\\nsamples = 22\\nvalue = [4, 18]'),\n",
       " Text(0.23684210526315788, 0.08333333333333333, 'gini = 0.0\\nsamples = 2\\nvalue = [2, 0]'),\n",
       " Text(0.2894736842105263, 0.08333333333333333, 'gini = 0.18\\nsamples = 20\\nvalue = [2, 18]'),\n",
       " Text(0.34210526315789475, 0.4166666666666667, 'passenger_id <= 48.0\\ngini = 0.142\\nsamples = 13\\nvalue = [12, 1]'),\n",
       " Text(0.3157894736842105, 0.25, 'gini = 0.0\\nsamples = 1\\nvalue = [0, 1]'),\n",
       " Text(0.3684210526315789, 0.25, 'gini = 0.0\\nsamples = 12\\nvalue = [12, 0]'),\n",
       " Text(0.6842105263157895, 0.75, 'fare <= 18.275\\ngini = 0.304\\nsamples = 348\\nvalue = [283, 65]'),\n",
       " Text(0.5131578947368421, 0.5833333333333334, 'passenger_id <= 36.5\\ngini = 0.193\\nsamples = 222\\nvalue = [198, 24]'),\n",
       " Text(0.4473684210526316, 0.4166666666666667, 'fare <= 11.75\\ngini = 0.48\\nsamples = 5\\nvalue = [2, 3]'),\n",
       " Text(0.42105263157894735, 0.25, 'fare <= 7.24\\ngini = 0.444\\nsamples = 3\\nvalue = [2, 1]'),\n",
       " Text(0.39473684210526316, 0.08333333333333333, 'gini = 0.0\\nsamples = 1\\nvalue = [0, 1]'),\n",
       " Text(0.4473684210526316, 0.08333333333333333, 'gini = 0.0\\nsamples = 2\\nvalue = [2, 0]'),\n",
       " Text(0.47368421052631576, 0.25, 'gini = 0.0\\nsamples = 2\\nvalue = [0, 2]'),\n",
       " Text(0.5789473684210527, 0.4166666666666667, 'alone <= 0.5\\ngini = 0.175\\nsamples = 217\\nvalue = [196, 21]'),\n",
       " Text(0.5263157894736842, 0.25, 'passenger_id <= 651.5\\ngini = 0.363\\nsamples = 21\\nvalue = [16, 5]'),\n",
       " Text(0.5, 0.08333333333333333, 'gini = 0.219\\nsamples = 16\\nvalue = [14, 2]'),\n",
       " Text(0.5526315789473685, 0.08333333333333333, 'gini = 0.48\\nsamples = 5\\nvalue = [2, 3]'),\n",
       " Text(0.631578947368421, 0.25, 'passenger_id <= 224.5\\ngini = 0.15\\nsamples = 196\\nvalue = [180, 16]'),\n",
       " Text(0.6052631578947368, 0.08333333333333333, 'gini = 0.0\\nsamples = 41\\nvalue = [41, 0]'),\n",
       " Text(0.6578947368421053, 0.08333333333333333, 'gini = 0.185\\nsamples = 155\\nvalue = [139, 16]'),\n",
       " Text(0.8552631578947368, 0.5833333333333334, 'passenger_id <= 164.5\\ngini = 0.439\\nsamples = 126\\nvalue = [85, 41]'),\n",
       " Text(0.7894736842105263, 0.4166666666666667, 'alone <= 0.5\\ngini = 0.231\\nsamples = 30\\nvalue = [26, 4]'),\n",
       " Text(0.7368421052631579, 0.25, 'embark_town_Southampton <= 0.5\\ngini = 0.087\\nsamples = 22\\nvalue = [21, 1]'),\n",
       " Text(0.7105263157894737, 0.08333333333333333, 'gini = 0.32\\nsamples = 5\\nvalue = [4, 1]'),\n",
       " Text(0.7631578947368421, 0.08333333333333333, 'gini = 0.0\\nsamples = 17\\nvalue = [17, 0]'),\n",
       " Text(0.8421052631578947, 0.25, 'fare <= 35.077\\ngini = 0.469\\nsamples = 8\\nvalue = [5, 3]'),\n",
       " Text(0.8157894736842105, 0.08333333333333333, 'gini = 0.0\\nsamples = 3\\nvalue = [3, 0]'),\n",
       " Text(0.868421052631579, 0.08333333333333333, 'gini = 0.48\\nsamples = 5\\nvalue = [2, 3]'),\n",
       " Text(0.9210526315789473, 0.4166666666666667, 'fare <= 19.377\\ngini = 0.474\\nsamples = 96\\nvalue = [59, 37]'),\n",
       " Text(0.8947368421052632, 0.25, 'gini = 0.0\\nsamples = 3\\nvalue = [0, 3]'),\n",
       " Text(0.9473684210526315, 0.25, 'fare <= 51.248\\ngini = 0.464\\nsamples = 93\\nvalue = [59, 34]'),\n",
       " Text(0.9210526315789473, 0.08333333333333333, 'gini = 0.417\\nsamples = 64\\nvalue = [45, 19]'),\n",
       " Text(0.9736842105263158, 0.08333333333333333, 'gini = 0.499\\nsamples = 29\\nvalue = [14, 15]')]"
      ]
     },
     "execution_count": 57,
     "metadata": {},
     "output_type": "execute_result"
    },
    {
     "data": {
      "image/png": "[encoded data removed]",
      "text/plain": [
       "<Figure size 936x504 with 1 Axes>"
      ]
     },
     "metadata": {
      "needs_background": "light"
     },
     "output_type": "display_data"
    }
   ],
   "source": [
    "plt.figure(figsize=(13, 7))\n",
    "plot_tree(clfsecondtest, feature_names=x_train.columns, rounded=True)"
   ]
  },
  {
   "cell_type": "code",
   "execution_count": 58,
   "id": "cb87c1eb",
   "metadata": {},
   "outputs": [
    {
     "data": {
      "text/html": [
       "<div>\n",
       "<style scoped>\n",
       "    .dataframe tbody tr th:only-of-type {\n",
       "        vertical-align: middle;\n",
       "    }\n",
       "\n",
       "    .dataframe tbody tr th {\n",
       "        vertical-align: top;\n",
       "    }\n",
       "\n",
       "    .dataframe thead th {\n",
       "        text-align: right;\n",
       "    }\n",
       "</style>\n",
       "<table border=\"1\" class=\"dataframe\">\n",
       "  <thead>\n",
       "    <tr style=\"text-align: right;\">\n",
       "      <th></th>\n",
       "      <th>survived</th>\n",
       "      <th>baseline</th>\n",
       "      <th>model_1</th>\n",
       "      <th>model_2</th>\n",
       "    </tr>\n",
       "  </thead>\n",
       "  <tbody>\n",
       "    <tr>\n",
       "      <th>455</th>\n",
       "      <td>1</td>\n",
       "      <td>0</td>\n",
       "      <td>0</td>\n",
       "      <td>0</td>\n",
       "    </tr>\n",
       "    <tr>\n",
       "      <th>380</th>\n",
       "      <td>1</td>\n",
       "      <td>0</td>\n",
       "      <td>1</td>\n",
       "      <td>1</td>\n",
       "    </tr>\n",
       "    <tr>\n",
       "      <th>492</th>\n",
       "      <td>0</td>\n",
       "      <td>0</td>\n",
       "      <td>0</td>\n",
       "      <td>0</td>\n",
       "    </tr>\n",
       "    <tr>\n",
       "      <th>55</th>\n",
       "      <td>1</td>\n",
       "      <td>0</td>\n",
       "      <td>0</td>\n",
       "      <td>1</td>\n",
       "    </tr>\n",
       "    <tr>\n",
       "      <th>243</th>\n",
       "      <td>0</td>\n",
       "      <td>0</td>\n",
       "      <td>0</td>\n",
       "      <td>0</td>\n",
       "    </tr>\n",
       "    <tr>\n",
       "      <th>...</th>\n",
       "      <td>...</td>\n",
       "      <td>...</td>\n",
       "      <td>...</td>\n",
       "      <td>...</td>\n",
       "    </tr>\n",
       "    <tr>\n",
       "      <th>695</th>\n",
       "      <td>0</td>\n",
       "      <td>0</td>\n",
       "      <td>0</td>\n",
       "      <td>0</td>\n",
       "    </tr>\n",
       "    <tr>\n",
       "      <th>128</th>\n",
       "      <td>1</td>\n",
       "      <td>0</td>\n",
       "      <td>1</td>\n",
       "      <td>0</td>\n",
       "    </tr>\n",
       "    <tr>\n",
       "      <th>636</th>\n",
       "      <td>0</td>\n",
       "      <td>0</td>\n",
       "      <td>0</td>\n",
       "      <td>0</td>\n",
       "    </tr>\n",
       "    <tr>\n",
       "      <th>222</th>\n",
       "      <td>0</td>\n",
       "      <td>0</td>\n",
       "      <td>0</td>\n",
       "      <td>0</td>\n",
       "    </tr>\n",
       "    <tr>\n",
       "      <th>496</th>\n",
       "      <td>1</td>\n",
       "      <td>0</td>\n",
       "      <td>1</td>\n",
       "      <td>1</td>\n",
       "    </tr>\n",
       "  </tbody>\n",
       "</table>\n",
       "<p>534 rows × 4 columns</p>\n",
       "</div>"
      ],
      "text/plain": [
       "     survived  baseline  model_1  model_2\n",
       "455         1         0        0        0\n",
       "380         1         0        1        1\n",
       "492         0         0        0        0\n",
       "55          1         0        0        1\n",
       "243         0         0        0        0\n",
       "..        ...       ...      ...      ...\n",
       "695         0         0        0        0\n",
       "128         1         0        1        0\n",
       "636         0         0        0        0\n",
       "222         0         0        0        0\n",
       "496         1         0        1        1\n",
       "\n",
       "[534 rows x 4 columns]"
      ]
     },
     "execution_count": 58,
     "metadata": {},
     "output_type": "execute_result"
    }
   ],
   "source": [
    "y_pred = pd.DataFrame({'survived': y_train,'baseline': 0, 'model_1':clf.predict(x_train),'model_2':clfsecondtest.predict(x_train)})\n",
    "y_pred"
   ]
  },
  {
   "cell_type": "code",
   "execution_count": 59,
   "id": "ba85523b",
   "metadata": {},
   "outputs": [
    {
     "data": {
      "text/plain": [
       "array([[0.89677419, 0.10322581],\n",
       "       [0.        , 1.        ],\n",
       "       [0.703125  , 0.296875  ],\n",
       "       [0.4       , 0.6       ],\n",
       "       [0.89677419, 0.10322581]])"
      ]
     },
     "execution_count": 59,
     "metadata": {},
     "output_type": "execute_result"
    }
   ],
   "source": [
    "y_pred_proba = clfsecondtest.predict_proba(x_train)\n",
    "y_pred_proba[0:5]"
   ]
  },
  {
   "cell_type": "code",
   "execution_count": 60,
   "id": "61b7a6de",
   "metadata": {},
   "outputs": [
    {
     "name": "stdout",
     "output_type": "stream",
     "text": [
      "Accuracy of Decision Tree classifier on training set: 0.84\n"
     ]
    }
   ],
   "source": [
    "print('Accuracy of Decision Tree classifier on training set: {:.2f}'\n",
    "      .format(clfsecondtest.score(x_train, y_train)))"
   ]
  },
  {
   "cell_type": "code",
   "execution_count": 61,
   "id": "84feec2a",
   "metadata": {},
   "outputs": [
    {
     "data": {
      "text/plain": [
       "array([[306,  23],\n",
       "       [ 61, 144]])"
      ]
     },
     "execution_count": 61,
     "metadata": {},
     "output_type": "execute_result"
    }
   ],
   "source": [
    "confusion_matrix(y_pred.survived, y_pred.model_2)"
   ]
  },
  {
   "cell_type": "code",
   "execution_count": 62,
   "id": "8925a886",
   "metadata": {},
   "outputs": [
    {
     "name": "stdout",
     "output_type": "stream",
     "text": [
      "              precision    recall  f1-score   support\n",
      "\n",
      "           0       0.83      0.93      0.88       329\n",
      "           1       0.86      0.70      0.77       205\n",
      "\n",
      "    accuracy                           0.84       534\n",
      "   macro avg       0.85      0.82      0.83       534\n",
      "weighted avg       0.84      0.84      0.84       534\n",
      "\n"
     ]
    }
   ],
   "source": [
    "print(classification_report(y_pred.survived,y_pred.model_2))"
   ]
  },
  {
   "cell_type": "code",
   "execution_count": 63,
   "id": "dabf24a5",
   "metadata": {},
   "outputs": [
    {
     "data": {
      "text/html": [
       "<div>\n",
       "<style scoped>\n",
       "    .dataframe tbody tr th:only-of-type {\n",
       "        vertical-align: middle;\n",
       "    }\n",
       "\n",
       "    .dataframe tbody tr th {\n",
       "        vertical-align: top;\n",
       "    }\n",
       "\n",
       "    .dataframe thead th {\n",
       "        text-align: right;\n",
       "    }\n",
       "</style>\n",
       "<table border=\"1\" class=\"dataframe\">\n",
       "  <thead>\n",
       "    <tr style=\"text-align: right;\">\n",
       "      <th></th>\n",
       "      <th>prep_notsurvived</th>\n",
       "      <th>prep_survived</th>\n",
       "    </tr>\n",
       "  </thead>\n",
       "  <tbody>\n",
       "    <tr>\n",
       "      <th>actual_notsurvived</th>\n",
       "      <td>306</td>\n",
       "      <td>23</td>\n",
       "    </tr>\n",
       "    <tr>\n",
       "      <th>acutal_survived</th>\n",
       "      <td>61</td>\n",
       "      <td>144</td>\n",
       "    </tr>\n",
       "  </tbody>\n",
       "</table>\n",
       "</div>"
      ],
      "text/plain": [
       "                    prep_notsurvived  prep_survived\n",
       "actual_notsurvived               306             23\n",
       "acutal_survived                   61            144"
      ]
     },
     "execution_count": 63,
     "metadata": {},
     "output_type": "execute_result"
    }
   ],
   "source": [
    "pd.DataFrame(confusion_matrix(y_pred.survived, y_pred.model_2), index=['actual_notsurvived','acutal_survived'], columns=['prep_notsurvived','prep_survived'])"
   ]
  },
  {
   "cell_type": "code",
   "execution_count": 64,
   "id": "592feec2",
   "metadata": {},
   "outputs": [],
   "source": [
    "TN2 = 276\n",
    "FP2 = 31\n",
    "FN2 = 57\n",
    "TP2 = 134"
   ]
  },
  {
   "cell_type": "code",
   "execution_count": 65,
   "id": "23a2f5ac",
   "metadata": {},
   "outputs": [],
   "source": [
    "all = TP2 + FP2 + FN2 + TN2\n",
    "acc2 = (TP2 + TN2) / all\n",
    "\n",
    "TurePositiveRate2 = recall2 = TP2/ (TP2 + FN2)\n",
    "\n",
    "FalsePositiveRate2 = FP2 / (FP2 + TN2)\n",
    "\n",
    "TrueNegativeRate2 = TN2 / (TN2 + FP2)\n",
    "\n",
    "FalseNegativeRate2 = FN2 / (FN2 + TP2)\n",
    "\n",
    "precision2 = TP2 / (TP2 + FP2)\n",
    "\n",
    "f1_score2 = 2 * (precision2*recall2) / (precision2+recall2)\n",
    "\n",
    "support_pos2 = TP2 + FN2\n",
    "support_neg2 = FP2 + TN2"
   ]
  },
  {
   "cell_type": "code",
   "execution_count": 66,
   "id": "a74cbf13",
   "metadata": {},
   "outputs": [
    {
     "name": "stdout",
     "output_type": "stream",
     "text": [
      "accuracy is: 0.8232931726907631 Ture Positive Rate is: 0.7015706806282722 False Positive Rate is: 0.10097719869706841 /n True Negative Rate is: 0.8990228013029316 False Negative Rate is: 0.29842931937172773 precision is: 0.8121212121212121 /n f1_score is: 0.752808988764045 support_pos is: 191 support_neg is: 307\n"
     ]
    }
   ],
   "source": [
    "print('accuracy is:',acc2,'Ture Positive Rate is:',TurePositiveRate2,'False Positive Rate is:',FalsePositiveRate2,'/n',\n",
    "      'True Negative Rate is:',TrueNegativeRate2,'False Negative Rate is:',FalseNegativeRate2,'precision is:',precision2,'/n',\n",
    "      'f1_score is:',f1_score2,'support_pos is:',support_pos2,'support_neg is:',support_neg2)"
   ]
  },
  {
   "cell_type": "code",
   "execution_count": 67,
   "id": "c2843857",
   "metadata": {},
   "outputs": [
    {
     "name": "stdout",
     "output_type": "stream",
     "text": [
      "              precision    recall  f1-score   support\n",
      "\n",
      "           0       0.83      0.93      0.88       329\n",
      "           1       0.86      0.70      0.77       205\n",
      "\n",
      "    accuracy                           0.84       534\n",
      "   macro avg       0.85      0.82      0.83       534\n",
      "weighted avg       0.84      0.84      0.84       534\n",
      "\n"
     ]
    }
   ],
   "source": [
    "print(classification_report(y_train, y_pred.model_2))"
   ]
  },
  {
   "cell_type": "markdown",
   "id": "e1a60822",
   "metadata": {},
   "source": [
    "Validate the first model"
   ]
  },
  {
   "cell_type": "code",
   "execution_count": 77,
   "id": "5be41fa5",
   "metadata": {},
   "outputs": [
    {
     "name": "stdout",
     "output_type": "stream",
     "text": [
      "Accuracy of Decision Tree classifier on validate set: 0.79\n",
      "              precision    recall  f1-score   support\n",
      "\n",
      "           0       0.81      0.85      0.83       110\n",
      "           1       0.74      0.68      0.71        68\n",
      "\n",
      "    accuracy                           0.79       178\n",
      "   macro avg       0.78      0.77      0.77       178\n",
      "weighted avg       0.78      0.79      0.78       178\n",
      "\n"
     ]
    }
   ],
   "source": [
    "print('Accuracy of Decision Tree classifier on validate set: {:.2f}'\n",
    "     .format(clf.score(x_validate, y_validate)))\n",
    "y_pred = clf.predict(x_validate)\n",
    "print(classification_report(y_validate, y_pred))"
   ]
  },
  {
   "cell_type": "code",
   "execution_count": 78,
   "id": "573b773f",
   "metadata": {},
   "outputs": [
    {
     "name": "stdout",
     "output_type": "stream",
     "text": [
      "Accuracy of Decision Tree classifier on validate set: 0.74\n",
      "              precision    recall  f1-score   support\n",
      "\n",
      "           0       0.77      0.84      0.80       110\n",
      "           1       0.69      0.59      0.63        68\n",
      "\n",
      "    accuracy                           0.74       178\n",
      "   macro avg       0.73      0.71      0.72       178\n",
      "weighted avg       0.74      0.74      0.74       178\n",
      "\n"
     ]
    }
   ],
   "source": [
    "print('Accuracy of Decision Tree classifier on validate set: {:.2f}'\n",
    "     .format(clfsecondtest.score(x_validate, y_validate)))\n",
    "y_pred = clfsecondtest.predict(x_validate)\n",
    "print(classification_report(y_validate, y_pred))"
   ]
  },
  {
   "cell_type": "code",
   "execution_count": null,
   "id": "98c33a00",
   "metadata": {},
   "outputs": [],
   "source": []
  },
  {
   "cell_type": "markdown",
   "id": "8cd29c04",
   "metadata": {},
   "source": [
    "## Telco dataset"
   ]
  },
  {
   "cell_type": "code",
   "execution_count": 79,
   "id": "82b9a702",
   "metadata": {},
   "outputs": [],
   "source": [
    "telco_df=acquire.get_telco_data()\n",
    "prep_telco=prepare.prep_telco(telco_df)\n",
    "telco_train,telco_validate,telco_test=prepare.split_telco(prep_telco)"
   ]
  },
  {
   "cell_type": "code",
   "execution_count": 80,
   "id": "9f936cbf",
   "metadata": {},
   "outputs": [
    {
     "data": {
      "text/html": [
       "<div>\n",
       "<style scoped>\n",
       "    .dataframe tbody tr th:only-of-type {\n",
       "        vertical-align: middle;\n",
       "    }\n",
       "\n",
       "    .dataframe tbody tr th {\n",
       "        vertical-align: top;\n",
       "    }\n",
       "\n",
       "    .dataframe thead th {\n",
       "        text-align: right;\n",
       "    }\n",
       "</style>\n",
       "<table border=\"1\" class=\"dataframe\">\n",
       "  <thead>\n",
       "    <tr style=\"text-align: right;\">\n",
       "      <th></th>\n",
       "      <th>customer_id</th>\n",
       "      <th>gender</th>\n",
       "      <th>senior_citizen</th>\n",
       "      <th>tenure</th>\n",
       "      <th>monthly_charges</th>\n",
       "      <th>total_charges</th>\n",
       "      <th>phone_service.1</th>\n",
       "      <th>multiple_lines.1</th>\n",
       "      <th>internet_service_type_id.1</th>\n",
       "      <th>online_security.1</th>\n",
       "      <th>...</th>\n",
       "      <th>tech_support_No internet service</th>\n",
       "      <th>tech_support_Yes</th>\n",
       "      <th>streaming_tv_No internet service</th>\n",
       "      <th>streaming_tv_Yes</th>\n",
       "      <th>streaming_movies_No internet service</th>\n",
       "      <th>streaming_movies_Yes</th>\n",
       "      <th>paperless_billing_Yes</th>\n",
       "      <th>churn_Yes</th>\n",
       "      <th>internet_service_type_Fiber optic</th>\n",
       "      <th>internet_service_type_None</th>\n",
       "    </tr>\n",
       "  </thead>\n",
       "  <tbody>\n",
       "    <tr>\n",
       "      <th>440</th>\n",
       "      <td>0643-OKLRP</td>\n",
       "      <td>Female</td>\n",
       "      <td>1</td>\n",
       "      <td>47</td>\n",
       "      <td>80.35</td>\n",
       "      <td>3825.85</td>\n",
       "      <td>Yes</td>\n",
       "      <td>Yes</td>\n",
       "      <td>2</td>\n",
       "      <td>Yes</td>\n",
       "      <td>...</td>\n",
       "      <td>0</td>\n",
       "      <td>0</td>\n",
       "      <td>0</td>\n",
       "      <td>0</td>\n",
       "      <td>0</td>\n",
       "      <td>0</td>\n",
       "      <td>0</td>\n",
       "      <td>1</td>\n",
       "      <td>1</td>\n",
       "      <td>0</td>\n",
       "    </tr>\n",
       "    <tr>\n",
       "      <th>67</th>\n",
       "      <td>0112-QWPNC</td>\n",
       "      <td>Male</td>\n",
       "      <td>0</td>\n",
       "      <td>49</td>\n",
       "      <td>84.35</td>\n",
       "      <td>4059.35</td>\n",
       "      <td>Yes</td>\n",
       "      <td>Yes</td>\n",
       "      <td>1</td>\n",
       "      <td>Yes</td>\n",
       "      <td>...</td>\n",
       "      <td>0</td>\n",
       "      <td>1</td>\n",
       "      <td>0</td>\n",
       "      <td>1</td>\n",
       "      <td>0</td>\n",
       "      <td>1</td>\n",
       "      <td>0</td>\n",
       "      <td>1</td>\n",
       "      <td>0</td>\n",
       "      <td>0</td>\n",
       "    </tr>\n",
       "    <tr>\n",
       "      <th>600</th>\n",
       "      <td>0877-SDMBN</td>\n",
       "      <td>Female</td>\n",
       "      <td>0</td>\n",
       "      <td>54</td>\n",
       "      <td>103.95</td>\n",
       "      <td>5639.05</td>\n",
       "      <td>Yes</td>\n",
       "      <td>Yes</td>\n",
       "      <td>2</td>\n",
       "      <td>Yes</td>\n",
       "      <td>...</td>\n",
       "      <td>0</td>\n",
       "      <td>0</td>\n",
       "      <td>0</td>\n",
       "      <td>1</td>\n",
       "      <td>0</td>\n",
       "      <td>1</td>\n",
       "      <td>1</td>\n",
       "      <td>1</td>\n",
       "      <td>1</td>\n",
       "      <td>0</td>\n",
       "    </tr>\n",
       "    <tr>\n",
       "      <th>4883</th>\n",
       "      <td>9993-LHIEB</td>\n",
       "      <td>Male</td>\n",
       "      <td>0</td>\n",
       "      <td>67</td>\n",
       "      <td>67.85</td>\n",
       "      <td>4627.65</td>\n",
       "      <td>Yes</td>\n",
       "      <td>No</td>\n",
       "      <td>1</td>\n",
       "      <td>Yes</td>\n",
       "      <td>...</td>\n",
       "      <td>0</td>\n",
       "      <td>1</td>\n",
       "      <td>0</td>\n",
       "      <td>0</td>\n",
       "      <td>0</td>\n",
       "      <td>1</td>\n",
       "      <td>0</td>\n",
       "      <td>0</td>\n",
       "      <td>0</td>\n",
       "      <td>0</td>\n",
       "    </tr>\n",
       "    <tr>\n",
       "      <th>1258</th>\n",
       "      <td>2455-USLMV</td>\n",
       "      <td>Female</td>\n",
       "      <td>0</td>\n",
       "      <td>31</td>\n",
       "      <td>84.75</td>\n",
       "      <td>2613.4</td>\n",
       "      <td>Yes</td>\n",
       "      <td>Yes</td>\n",
       "      <td>2</td>\n",
       "      <td>Yes</td>\n",
       "      <td>...</td>\n",
       "      <td>0</td>\n",
       "      <td>0</td>\n",
       "      <td>0</td>\n",
       "      <td>0</td>\n",
       "      <td>0</td>\n",
       "      <td>0</td>\n",
       "      <td>1</td>\n",
       "      <td>0</td>\n",
       "      <td>1</td>\n",
       "      <td>0</td>\n",
       "    </tr>\n",
       "  </tbody>\n",
       "</table>\n",
       "<p>5 rows × 42 columns</p>\n",
       "</div>"
      ],
      "text/plain": [
       "     customer_id  gender  senior_citizen  tenure  monthly_charges  \\\n",
       "440   0643-OKLRP  Female               1      47            80.35   \n",
       "67    0112-QWPNC    Male               0      49            84.35   \n",
       "600   0877-SDMBN  Female               0      54           103.95   \n",
       "4883  9993-LHIEB    Male               0      67            67.85   \n",
       "1258  2455-USLMV  Female               0      31            84.75   \n",
       "\n",
       "     total_charges phone_service.1 multiple_lines.1  \\\n",
       "440        3825.85             Yes              Yes   \n",
       "67         4059.35             Yes              Yes   \n",
       "600        5639.05             Yes              Yes   \n",
       "4883       4627.65             Yes               No   \n",
       "1258        2613.4             Yes              Yes   \n",
       "\n",
       "      internet_service_type_id.1 online_security.1  ...  \\\n",
       "440                            2               Yes  ...   \n",
       "67                             1               Yes  ...   \n",
       "600                            2               Yes  ...   \n",
       "4883                           1               Yes  ...   \n",
       "1258                           2               Yes  ...   \n",
       "\n",
       "     tech_support_No internet service tech_support_Yes  \\\n",
       "440                                 0                0   \n",
       "67                                  0                1   \n",
       "600                                 0                0   \n",
       "4883                                0                1   \n",
       "1258                                0                0   \n",
       "\n",
       "     streaming_tv_No internet service streaming_tv_Yes  \\\n",
       "440                                 0                0   \n",
       "67                                  0                1   \n",
       "600                                 0                1   \n",
       "4883                                0                0   \n",
       "1258                                0                0   \n",
       "\n",
       "     streaming_movies_No internet service  streaming_movies_Yes  \\\n",
       "440                                     0                     0   \n",
       "67                                      0                     1   \n",
       "600                                     0                     1   \n",
       "4883                                    0                     1   \n",
       "1258                                    0                     0   \n",
       "\n",
       "     paperless_billing_Yes  churn_Yes  internet_service_type_Fiber optic  \\\n",
       "440                      0          1                                  1   \n",
       "67                       0          1                                  0   \n",
       "600                      1          1                                  1   \n",
       "4883                     0          0                                  0   \n",
       "1258                     1          0                                  1   \n",
       "\n",
       "     internet_service_type_None  \n",
       "440                           0  \n",
       "67                            0  \n",
       "600                           0  \n",
       "4883                          0  \n",
       "1258                          0  \n",
       "\n",
       "[5 rows x 42 columns]"
      ]
     },
     "execution_count": 80,
     "metadata": {},
     "output_type": "execute_result"
    }
   ],
   "source": [
    "telco_train.head()"
   ]
  },
  {
   "cell_type": "code",
   "execution_count": 85,
   "id": "8d1ef8e2",
   "metadata": {},
   "outputs": [
    {
     "name": "stdout",
     "output_type": "stream",
     "text": [
      "<class 'pandas.core.frame.DataFrame'>\n",
      "Int64Index: 4225 entries, 440 to 6958\n",
      "Data columns (total 35 columns):\n",
      " #   Column                                 Non-Null Count  Dtype  \n",
      "---  ------                                 --------------  -----  \n",
      " 0   gender                                 4225 non-null   object \n",
      " 1   senior_citizen                         4225 non-null   int64  \n",
      " 2   tenure                                 4225 non-null   int64  \n",
      " 3   monthly_charges                        4225 non-null   float64\n",
      " 4   total_charges                          4225 non-null   object \n",
      " 5   phone_service.1                        4225 non-null   object \n",
      " 6   multiple_lines.1                       4225 non-null   object \n",
      " 7   online_security.1                      4225 non-null   object \n",
      " 8   online_backup.1                        4225 non-null   object \n",
      " 9   device_protection.1                    4225 non-null   object \n",
      " 10  tech_support.1                         4225 non-null   object \n",
      " 11  streaming_tv.1                         4225 non-null   object \n",
      " 12  streaming_movies.1                     4225 non-null   object \n",
      " 13  paperless_billing.1                    4225 non-null   object \n",
      " 14  partner_Yes                            4225 non-null   uint8  \n",
      " 15  dependents_Yes                         4225 non-null   uint8  \n",
      " 16  phone_service_Yes                      4225 non-null   uint8  \n",
      " 17  multiple_lines_No phone service        4225 non-null   uint8  \n",
      " 18  multiple_lines_Yes                     4225 non-null   uint8  \n",
      " 19  online_security_No internet service    4225 non-null   uint8  \n",
      " 20  online_security_Yes                    4225 non-null   uint8  \n",
      " 21  online_backup_No internet service      4225 non-null   uint8  \n",
      " 22  online_backup_Yes                      4225 non-null   uint8  \n",
      " 23  device_protection_No internet service  4225 non-null   uint8  \n",
      " 24  device_protection_Yes                  4225 non-null   uint8  \n",
      " 25  tech_support_No internet service       4225 non-null   uint8  \n",
      " 26  tech_support_Yes                       4225 non-null   uint8  \n",
      " 27  streaming_tv_No internet service       4225 non-null   uint8  \n",
      " 28  streaming_tv_Yes                       4225 non-null   uint8  \n",
      " 29  streaming_movies_No internet service   4225 non-null   uint8  \n",
      " 30  streaming_movies_Yes                   4225 non-null   uint8  \n",
      " 31  paperless_billing_Yes                  4225 non-null   uint8  \n",
      " 32  churn_Yes                              4225 non-null   uint8  \n",
      " 33  internet_service_type_Fiber optic      4225 non-null   uint8  \n",
      " 34  internet_service_type_None             4225 non-null   uint8  \n",
      "dtypes: float64(1), int64(2), object(11), uint8(21)\n",
      "memory usage: 581.8+ KB\n"
     ]
    }
   ],
   "source": [
    "telco_train.info()\n",
    "telco_train.drop(columns=['customer_id','internet_service_type_id.1','contract_type_id.1','payment_type_id.1','internet_service_type_id.2','monthly_charges.1','total_charges.1'],inplace=True)\n",
    "telco_validate.drop(columns=['customer_id','internet_service_type_id.1','contract_type_id.1','payment_type_id.1','internet_service_type_id.2','monthly_charges.1','total_charges.1'],inplace=True)\n",
    "telco_test.drop(columns=['customer_id','internet_service_type_id.1','contract_type_id.1','payment_type_id.1','internet_service_type_id.2','monthly_charges.1','total_charges.1'],inplace=True)"
   ]
  },
  {
   "cell_type": "code",
   "execution_count": 86,
   "id": "5c3b9c1b",
   "metadata": {},
   "outputs": [
    {
     "data": {
      "text/plain": [
       "0    0\n",
       "Name: churn_Yes, dtype: uint8"
      ]
     },
     "execution_count": 86,
     "metadata": {},
     "output_type": "execute_result"
    }
   ],
   "source": [
    "telco_train.churn_Yes.mode()"
   ]
  },
  {
   "cell_type": "code",
   "execution_count": 89,
   "id": "dbf68852",
   "metadata": {},
   "outputs": [],
   "source": [
    "x_train = telco_train.drop(columns=['churn_Yes'])\n",
    "y_train = telco_train.churn_Yes\n",
    "\n",
    "x_validate = telco_validate.drop(columns=['churn_Yes'])\n",
    "y_validate = telco_validate.churn_Yes\n",
    "\n",
    "x_test = telco_test.drop(columns=['churn_Yes'])\n",
    "y_test = telco_test.churn_Yes"
   ]
  },
  {
   "cell_type": "code",
   "execution_count": 90,
   "id": "0e69cfd1",
   "metadata": {},
   "outputs": [
    {
     "data": {
      "text/plain": [
       "0.7311242603550295"
      ]
     },
     "execution_count": 90,
     "metadata": {},
     "output_type": "execute_result"
    }
   ],
   "source": [
    "(y_train==0).mean()"
   ]
  },
  {
   "cell_type": "markdown",
   "id": "afb9f88a",
   "metadata": {},
   "source": [
    "The baseline is not churn, and the accuracy is .73"
   ]
  },
  {
   "cell_type": "code",
   "execution_count": 92,
   "id": "0eec1029",
   "metadata": {},
   "outputs": [
    {
     "ename": "ValueError",
     "evalue": "could not convert string to float: 'Female'",
     "output_type": "error",
     "traceback": [
      "\u001b[0;31m---------------------------------------------------------------------------\u001b[0m",
      "\u001b[0;31mValueError\u001b[0m                                Traceback (most recent call last)",
      "Input \u001b[0;32mIn [92]\u001b[0m, in \u001b[0;36m<cell line: 2>\u001b[0;34m()\u001b[0m\n\u001b[1;32m      1\u001b[0m clf \u001b[38;5;241m=\u001b[39m DecisionTreeClassifier(max_depth\u001b[38;5;241m=\u001b[39m\u001b[38;5;241m3\u001b[39m, random_state\u001b[38;5;241m=\u001b[39m\u001b[38;5;241m123\u001b[39m)\n\u001b[0;32m----> 2\u001b[0m clf \u001b[38;5;241m=\u001b[39m \u001b[43mclf\u001b[49m\u001b[38;5;241;43m.\u001b[39;49m\u001b[43mfit\u001b[49m\u001b[43m(\u001b[49m\u001b[43mx_train\u001b[49m\u001b[43m,\u001b[49m\u001b[43m \u001b[49m\u001b[43my_train\u001b[49m\u001b[43m)\u001b[49m\n",
      "File \u001b[0;32m/opt/homebrew/anaconda3/lib/python3.9/site-packages/sklearn/tree/_classes.py:937\u001b[0m, in \u001b[0;36mDecisionTreeClassifier.fit\u001b[0;34m(self, X, y, sample_weight, check_input, X_idx_sorted)\u001b[0m\n\u001b[1;32m    899\u001b[0m \u001b[38;5;28;01mdef\u001b[39;00m \u001b[38;5;21mfit\u001b[39m(\n\u001b[1;32m    900\u001b[0m     \u001b[38;5;28mself\u001b[39m, X, y, sample_weight\u001b[38;5;241m=\u001b[39m\u001b[38;5;28;01mNone\u001b[39;00m, check_input\u001b[38;5;241m=\u001b[39m\u001b[38;5;28;01mTrue\u001b[39;00m, X_idx_sorted\u001b[38;5;241m=\u001b[39m\u001b[38;5;124m\"\u001b[39m\u001b[38;5;124mdeprecated\u001b[39m\u001b[38;5;124m\"\u001b[39m\n\u001b[1;32m    901\u001b[0m ):\n\u001b[1;32m    902\u001b[0m     \u001b[38;5;124;03m\"\"\"Build a decision tree classifier from the training set (X, y).\u001b[39;00m\n\u001b[1;32m    903\u001b[0m \n\u001b[1;32m    904\u001b[0m \u001b[38;5;124;03m    Parameters\u001b[39;00m\n\u001b[0;32m   (...)\u001b[0m\n\u001b[1;32m    934\u001b[0m \u001b[38;5;124;03m        Fitted estimator.\u001b[39;00m\n\u001b[1;32m    935\u001b[0m \u001b[38;5;124;03m    \"\"\"\u001b[39;00m\n\u001b[0;32m--> 937\u001b[0m     \u001b[38;5;28;43msuper\u001b[39;49m\u001b[43m(\u001b[49m\u001b[43m)\u001b[49m\u001b[38;5;241;43m.\u001b[39;49m\u001b[43mfit\u001b[49m\u001b[43m(\u001b[49m\n\u001b[1;32m    938\u001b[0m \u001b[43m        \u001b[49m\u001b[43mX\u001b[49m\u001b[43m,\u001b[49m\n\u001b[1;32m    939\u001b[0m \u001b[43m        \u001b[49m\u001b[43my\u001b[49m\u001b[43m,\u001b[49m\n\u001b[1;32m    940\u001b[0m \u001b[43m        \u001b[49m\u001b[43msample_weight\u001b[49m\u001b[38;5;241;43m=\u001b[39;49m\u001b[43msample_weight\u001b[49m\u001b[43m,\u001b[49m\n\u001b[1;32m    941\u001b[0m \u001b[43m        \u001b[49m\u001b[43mcheck_input\u001b[49m\u001b[38;5;241;43m=\u001b[39;49m\u001b[43mcheck_input\u001b[49m\u001b[43m,\u001b[49m\n\u001b[1;32m    942\u001b[0m \u001b[43m        \u001b[49m\u001b[43mX_idx_sorted\u001b[49m\u001b[38;5;241;43m=\u001b[39;49m\u001b[43mX_idx_sorted\u001b[49m\u001b[43m,\u001b[49m\n\u001b[1;32m    943\u001b[0m \u001b[43m    \u001b[49m\u001b[43m)\u001b[49m\n\u001b[1;32m    944\u001b[0m     \u001b[38;5;28;01mreturn\u001b[39;00m \u001b[38;5;28mself\u001b[39m\n",
      "File \u001b[0;32m/opt/homebrew/anaconda3/lib/python3.9/site-packages/sklearn/tree/_classes.py:165\u001b[0m, in \u001b[0;36mBaseDecisionTree.fit\u001b[0;34m(self, X, y, sample_weight, check_input, X_idx_sorted)\u001b[0m\n\u001b[1;32m    163\u001b[0m check_X_params \u001b[38;5;241m=\u001b[39m \u001b[38;5;28mdict\u001b[39m(dtype\u001b[38;5;241m=\u001b[39mDTYPE, accept_sparse\u001b[38;5;241m=\u001b[39m\u001b[38;5;124m\"\u001b[39m\u001b[38;5;124mcsc\u001b[39m\u001b[38;5;124m\"\u001b[39m)\n\u001b[1;32m    164\u001b[0m check_y_params \u001b[38;5;241m=\u001b[39m \u001b[38;5;28mdict\u001b[39m(ensure_2d\u001b[38;5;241m=\u001b[39m\u001b[38;5;28;01mFalse\u001b[39;00m, dtype\u001b[38;5;241m=\u001b[39m\u001b[38;5;28;01mNone\u001b[39;00m)\n\u001b[0;32m--> 165\u001b[0m X, y \u001b[38;5;241m=\u001b[39m \u001b[38;5;28;43mself\u001b[39;49m\u001b[38;5;241;43m.\u001b[39;49m\u001b[43m_validate_data\u001b[49m\u001b[43m(\u001b[49m\n\u001b[1;32m    166\u001b[0m \u001b[43m    \u001b[49m\u001b[43mX\u001b[49m\u001b[43m,\u001b[49m\u001b[43m \u001b[49m\u001b[43my\u001b[49m\u001b[43m,\u001b[49m\u001b[43m \u001b[49m\u001b[43mvalidate_separately\u001b[49m\u001b[38;5;241;43m=\u001b[39;49m\u001b[43m(\u001b[49m\u001b[43mcheck_X_params\u001b[49m\u001b[43m,\u001b[49m\u001b[43m \u001b[49m\u001b[43mcheck_y_params\u001b[49m\u001b[43m)\u001b[49m\n\u001b[1;32m    167\u001b[0m \u001b[43m\u001b[49m\u001b[43m)\u001b[49m\n\u001b[1;32m    168\u001b[0m \u001b[38;5;28;01mif\u001b[39;00m issparse(X):\n\u001b[1;32m    169\u001b[0m     X\u001b[38;5;241m.\u001b[39msort_indices()\n",
      "File \u001b[0;32m/opt/homebrew/anaconda3/lib/python3.9/site-packages/sklearn/base.py:578\u001b[0m, in \u001b[0;36mBaseEstimator._validate_data\u001b[0;34m(self, X, y, reset, validate_separately, **check_params)\u001b[0m\n\u001b[1;32m    572\u001b[0m \u001b[38;5;28;01mif\u001b[39;00m validate_separately:\n\u001b[1;32m    573\u001b[0m     \u001b[38;5;66;03m# We need this because some estimators validate X and y\u001b[39;00m\n\u001b[1;32m    574\u001b[0m     \u001b[38;5;66;03m# separately, and in general, separately calling check_array()\u001b[39;00m\n\u001b[1;32m    575\u001b[0m     \u001b[38;5;66;03m# on X and y isn't equivalent to just calling check_X_y()\u001b[39;00m\n\u001b[1;32m    576\u001b[0m     \u001b[38;5;66;03m# :(\u001b[39;00m\n\u001b[1;32m    577\u001b[0m     check_X_params, check_y_params \u001b[38;5;241m=\u001b[39m validate_separately\n\u001b[0;32m--> 578\u001b[0m     X \u001b[38;5;241m=\u001b[39m \u001b[43mcheck_array\u001b[49m\u001b[43m(\u001b[49m\u001b[43mX\u001b[49m\u001b[43m,\u001b[49m\u001b[43m \u001b[49m\u001b[38;5;241;43m*\u001b[39;49m\u001b[38;5;241;43m*\u001b[39;49m\u001b[43mcheck_X_params\u001b[49m\u001b[43m)\u001b[49m\n\u001b[1;32m    579\u001b[0m     y \u001b[38;5;241m=\u001b[39m check_array(y, \u001b[38;5;241m*\u001b[39m\u001b[38;5;241m*\u001b[39mcheck_y_params)\n\u001b[1;32m    580\u001b[0m \u001b[38;5;28;01melse\u001b[39;00m:\n",
      "File \u001b[0;32m/opt/homebrew/anaconda3/lib/python3.9/site-packages/sklearn/utils/validation.py:746\u001b[0m, in \u001b[0;36mcheck_array\u001b[0;34m(array, accept_sparse, accept_large_sparse, dtype, order, copy, force_all_finite, ensure_2d, allow_nd, ensure_min_samples, ensure_min_features, estimator)\u001b[0m\n\u001b[1;32m    744\u001b[0m         array \u001b[38;5;241m=\u001b[39m array\u001b[38;5;241m.\u001b[39mastype(dtype, casting\u001b[38;5;241m=\u001b[39m\u001b[38;5;124m\"\u001b[39m\u001b[38;5;124munsafe\u001b[39m\u001b[38;5;124m\"\u001b[39m, copy\u001b[38;5;241m=\u001b[39m\u001b[38;5;28;01mFalse\u001b[39;00m)\n\u001b[1;32m    745\u001b[0m     \u001b[38;5;28;01melse\u001b[39;00m:\n\u001b[0;32m--> 746\u001b[0m         array \u001b[38;5;241m=\u001b[39m \u001b[43mnp\u001b[49m\u001b[38;5;241;43m.\u001b[39;49m\u001b[43masarray\u001b[49m\u001b[43m(\u001b[49m\u001b[43marray\u001b[49m\u001b[43m,\u001b[49m\u001b[43m \u001b[49m\u001b[43morder\u001b[49m\u001b[38;5;241;43m=\u001b[39;49m\u001b[43morder\u001b[49m\u001b[43m,\u001b[49m\u001b[43m \u001b[49m\u001b[43mdtype\u001b[49m\u001b[38;5;241;43m=\u001b[39;49m\u001b[43mdtype\u001b[49m\u001b[43m)\u001b[49m\n\u001b[1;32m    747\u001b[0m \u001b[38;5;28;01mexcept\u001b[39;00m ComplexWarning \u001b[38;5;28;01mas\u001b[39;00m complex_warning:\n\u001b[1;32m    748\u001b[0m     \u001b[38;5;28;01mraise\u001b[39;00m \u001b[38;5;167;01mValueError\u001b[39;00m(\n\u001b[1;32m    749\u001b[0m         \u001b[38;5;124m\"\u001b[39m\u001b[38;5;124mComplex data not supported\u001b[39m\u001b[38;5;130;01m\\n\u001b[39;00m\u001b[38;5;132;01m{}\u001b[39;00m\u001b[38;5;130;01m\\n\u001b[39;00m\u001b[38;5;124m\"\u001b[39m\u001b[38;5;241m.\u001b[39mformat(array)\n\u001b[1;32m    750\u001b[0m     ) \u001b[38;5;28;01mfrom\u001b[39;00m \u001b[38;5;21;01mcomplex_warning\u001b[39;00m\n",
      "File \u001b[0;32m/opt/homebrew/anaconda3/lib/python3.9/site-packages/pandas/core/generic.py:2064\u001b[0m, in \u001b[0;36mNDFrame.__array__\u001b[0;34m(self, dtype)\u001b[0m\n\u001b[1;32m   2063\u001b[0m \u001b[38;5;28;01mdef\u001b[39;00m \u001b[38;5;21m__array__\u001b[39m(\u001b[38;5;28mself\u001b[39m, dtype: npt\u001b[38;5;241m.\u001b[39mDTypeLike \u001b[38;5;241m|\u001b[39m \u001b[38;5;28;01mNone\u001b[39;00m \u001b[38;5;241m=\u001b[39m \u001b[38;5;28;01mNone\u001b[39;00m) \u001b[38;5;241m-\u001b[39m\u001b[38;5;241m>\u001b[39m np\u001b[38;5;241m.\u001b[39mndarray:\n\u001b[0;32m-> 2064\u001b[0m     \u001b[38;5;28;01mreturn\u001b[39;00m \u001b[43mnp\u001b[49m\u001b[38;5;241;43m.\u001b[39;49m\u001b[43masarray\u001b[49m\u001b[43m(\u001b[49m\u001b[38;5;28;43mself\u001b[39;49m\u001b[38;5;241;43m.\u001b[39;49m\u001b[43m_values\u001b[49m\u001b[43m,\u001b[49m\u001b[43m \u001b[49m\u001b[43mdtype\u001b[49m\u001b[38;5;241;43m=\u001b[39;49m\u001b[43mdtype\u001b[49m\u001b[43m)\u001b[49m\n",
      "\u001b[0;31mValueError\u001b[0m: could not convert string to float: 'Female'"
     ]
    }
   ],
   "source": [
    "clf = DecisionTreeClassifier(max_depth=3, random_state=123)\n",
    "clf = clf.fit(x_train, y_train)"
   ]
  },
  {
   "cell_type": "code",
   "execution_count": null,
   "id": "08feb386",
   "metadata": {},
   "outputs": [],
   "source": []
  },
  {
   "cell_type": "code",
   "execution_count": null,
   "id": "e9c9afee",
   "metadata": {},
   "outputs": [],
   "source": []
  },
  {
   "cell_type": "markdown",
   "id": "fba6d644",
   "metadata": {},
   "source": [
    "In-sample data is the second model performed better and the The second model works better than the first model"
   ]
  },
  {
   "cell_type": "code",
   "execution_count": null,
   "id": "af8317ee",
   "metadata": {},
   "outputs": [],
   "source": [
    "from sklearn.model_selection import train_test_split\n",
    "from sklearn.ensemble import RandomForestClassifier\n",
    "from sklearn.metrics import classification_report\n",
    "from sklearn.metrics import confusion_matrix\n",
    "rf = RandomForestClassifier(bootstrap=True, \n",
    "                            class_weight=None, \n",
    "                            criterion='gini',\n",
    "                            min_samples_leaf=1,\n",
    "                            n_estimators=100,\n",
    "                            max_depth=10, \n",
    "                            random_state=123)\n",
    "rf.fit(x_train, y_train)"
   ]
  },
  {
   "cell_type": "code",
   "execution_count": null,
   "id": "0223866c",
   "metadata": {},
   "outputs": [],
   "source": [
    "y_pred = rf.predict(x_train)\n",
    "y_pred_proba = rf.predict_proba(x_train)"
   ]
  },
  {
   "cell_type": "code",
   "execution_count": null,
   "id": "768a93cb",
   "metadata": {},
   "outputs": [],
   "source": [
    "print(confusion_matrix(y_train, y_pred))"
   ]
  },
  {
   "cell_type": "code",
   "execution_count": null,
   "id": "0ad178f7",
   "metadata": {},
   "outputs": [],
   "source": [
    "print(classification_report(y_train, y_pred))"
   ]
  },
  {
   "cell_type": "code",
   "execution_count": null,
   "id": "fd5b1975",
   "metadata": {},
   "outputs": [],
   "source": [
    "print('Accuracy of random forest classifier on train set: {:.2f}'\n",
    "     .format(rf.score(x_train, y_train)))"
   ]
  },
  {
   "cell_type": "code",
   "execution_count": null,
   "id": "353995b6",
   "metadata": {},
   "outputs": [],
   "source": [
    "telco = pd.read_csv('telco.csv')\n",
    "telco"
   ]
  },
  {
   "cell_type": "code",
   "execution_count": null,
   "id": "535f0113",
   "metadata": {},
   "outputs": [],
   "source": []
  }
 ],
 "metadata": {
  "kernelspec": {
   "display_name": "Python 3 (ipykernel)",
   "language": "python",
   "name": "python3"
  },
  "language_info": {
   "codemirror_mode": {
    "name": "ipython",
    "version": 3
   },
   "file_extension": ".py",
   "mimetype": "text/x-python",
   "name": "python",
   "nbconvert_exporter": "python",
   "pygments_lexer": "ipython3",
   "version": "3.9.12"
  }
 },
 "nbformat": 4,
 "nbformat_minor": 5
}
